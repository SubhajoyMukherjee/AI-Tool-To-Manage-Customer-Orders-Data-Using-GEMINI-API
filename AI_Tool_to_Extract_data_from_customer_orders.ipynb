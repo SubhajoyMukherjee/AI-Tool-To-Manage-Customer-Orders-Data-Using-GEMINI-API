{
  "nbformat": 4,
  "nbformat_minor": 0,
  "metadata": {
    "colab": {
      "provenance": [],
      "collapsed_sections": [
        "95c_srdb-UKq",
        "hahDf2gVykPy",
        "owo89Y5CzN4C",
        "SmIBOR4lz-R_",
        "1gR4uO-f1DuJ",
        "PbvT_SuBrjeh",
        "xQiEHm2Yugcb",
        "-_gqhCTfxf9g"
      ],
      "authorship_tag": "ABX9TyPtoOQvNRsNghp0U+47M5FW",
      "include_colab_link": true
    },
    "kernelspec": {
      "name": "python3",
      "display_name": "Python 3"
    },
    "language_info": {
      "name": "python"
    }
  },
  "cells": [
    {
      "cell_type": "markdown",
      "metadata": {
        "id": "view-in-github",
        "colab_type": "text"
      },
      "source": [
        "<a href=\"https://colab.research.google.com/github/SubhajoyMukherjee/AI-Tool-To-Manage-Customer-Orders-Data-Using-GEMINI-API/blob/main/AI_Tool_to_Extract_data_from_customer_orders.ipynb\" target=\"_parent\"><img src=\"https://colab.research.google.com/assets/colab-badge.svg\" alt=\"Open In Colab\"/></a>"
      ]
    },
    {
      "cell_type": "markdown",
      "source": [
        "# Mail data Extraction\n",
        "Steps of data extractio from GMAIL are :\n",
        "1. Make sure IMAP is enabled in Gmail Setting\n",
        "  (Log in in the Gmail Account and go to the Settings, See all settings, and select 'Forwarding and POP/IMAP' tab. In the \"IMAP access\" section, select Enable IMAP.)\n",
        "\n",
        "2. If the two factor Authentification is enabled, it is required to create an application specific password that the code need to use.\n",
        "  (Go to Gmail Account Setting and click on 'Security'. Scroll down to 2-step Verification. Select mail under Select App, and Other under Select Device. Give a name and the system gives you a password that you need to use to authenticate from python IMAP)"
      ],
      "metadata": {
        "id": "95c_srdb-UKq"
      }
    },
    {
      "cell_type": "code",
      "source": [
        "#Importing libraries for Gamil data extraction\n",
        "import imaplib as imap\n",
        "import email\n",
        "import yaml     #To load saved login credential from a yaml file\n",
        "\n"
      ],
      "metadata": {
        "id": "8co1SZE_HQ7g"
      },
      "execution_count": null,
      "outputs": []
    },
    {
      "cell_type": "markdown",
      "source": [
        "# The Below Code cell is to import deatils from .yaml file if the code is run in VSCODE/Local Device\n",
        "###  Before running the Code Please remove the muti-line comments sign the two blocks and Follow the Commented instruction"
      ],
      "metadata": {
        "id": "hahDf2gVykPy"
      }
    },
    {
      "cell_type": "code",
      "source": [
        "'''\n",
        "#Save the MailId and Password to a .yml file to access the details through python code\n",
        "#Give a Name of the .yml File. i.e. 'Gmail_Credential.yml'\n",
        "#Inside the .yml File wite the MailId and Password in the below format(KEY-VALUE Pair Format):\n",
        "      #user: \"xyz@gmail.com\"\n",
        "      #password: \"23415178\"\n",
        "#Then Access the details of the .yml File by the code and the path of the FILE\n",
        "with open(\"C:/Users/subha/Downloads/Gmail_Credential.yml\") as f:\n",
        "  content=f.read()\n",
        "\n",
        "'''"
      ],
      "metadata": {
        "id": "OIldhp-2rj3e"
      },
      "execution_count": null,
      "outputs": []
    },
    {
      "cell_type": "code",
      "source": [
        "'''\n",
        "#From \"Gmail_Credential.yml\" file import username and password\n",
        "my_credentials=yaml.load(content,Loader=yaml.FullLoader)\n",
        "\n",
        "#Load the Username and pasword from yaml file\n",
        "Username,Password=my_credentials['user'],my_credentials['password']   '''"
      ],
      "metadata": {
        "id": "w-Gf1kpVrsLP"
      },
      "execution_count": null,
      "outputs": []
    },
    {
      "cell_type": "markdown",
      "source": [
        "#The Below Code cell is to import Gmail Credentials from Google Colab Secrets if the code is run in GOOGLE COLAB\n"
      ],
      "metadata": {
        "id": "owo89Y5CzN4C"
      }
    },
    {
      "cell_type": "code",
      "source": [
        "# Used to securely store your API key\n",
        "from google.colab import userdata\n",
        "Username=userdata.get('Username1')\n",
        "Password=userdata.get('password1')\n"
      ],
      "metadata": {
        "id": "sR6JHPT5zfO7"
      },
      "execution_count": null,
      "outputs": []
    },
    {
      "cell_type": "markdown",
      "source": [
        "# Log in to Gmail using the credentials through Python and IMAP"
      ],
      "metadata": {
        "id": "SmIBOR4lz-R_"
      }
    },
    {
      "cell_type": "code",
      "source": [
        "#URL for IMAP connection to GMAIL\n",
        "imap_url='imap.gmail.com'\n",
        "\n",
        "#Connection with gmail using SSL\n",
        "my_mail=imap.IMAP4_SSL(imap_url)\n",
        "\n",
        "#Log in to GMAIL using Credentials\n",
        "my_mail.login(Username,Password)\n"
      ],
      "metadata": {
        "id": "bHcJ-_7c0RUT"
      },
      "execution_count": null,
      "outputs": []
    },
    {
      "cell_type": "markdown",
      "source": [
        "#Fetch Mail Details/Mails from GMAIL Inbox"
      ],
      "metadata": {
        "id": "1gR4uO-f1DuJ"
      }
    },
    {
      "cell_type": "code",
      "source": [
        "#Select the INBOX to fetch messages\n",
        "my_mail.select('Inbox')   #It will return the status of the process and also how many mails are there in the INBOX\n",
        "\n",
        "#print(type(my_mail))  : <class 'imaplib.IMAP4_SSL'>\n"
      ],
      "metadata": {
        "colab": {
          "base_uri": "https://localhost:8080/"
        },
        "id": "K4oYDOVe1TbO",
        "outputId": "85cbac37-1660-4aa0-b628-e80ace6ed8f5"
      },
      "execution_count": null,
      "outputs": [
        {
          "output_type": "execute_result",
          "data": {
            "text/plain": [
              "('OK', [b'653'])"
            ]
          },
          "metadata": {},
          "execution_count": 7
        }
      ]
    },
    {
      "cell_type": "code",
      "source": [
        "#Define the key value for email search\n",
        "\n",
        "key='Subject'\n",
        "value='order'\n",
        "\n",
        "#Search for emails with specific key value\n",
        "result,data=my_mail.search(None, key, value) #Here Data is the List of Mail Ids matches the Search Criteria\n",
        "print(type(data))\n",
        "print(data)"
      ],
      "metadata": {
        "colab": {
          "base_uri": "https://localhost:8080/"
        },
        "id": "98OKszPg8EEb",
        "outputId": "fcae3728-1b93-4b17-d83a-eb8320018f64"
      },
      "execution_count": null,
      "outputs": [
        {
          "output_type": "stream",
          "name": "stdout",
          "text": [
            "<class 'list'>\n",
            "[b'626 627 629 630 631 632 633']\n"
          ]
        }
      ]
    },
    {
      "cell_type": "code",
      "source": [
        "#In the variable 'data' all the Mail Ids are stored as a Single string\n",
        "#So to access each of the Mail Id from 'data' we need to split it\n",
        "#IDs of all emails that we want to fetch\n",
        "mail_id_list=data[0].split()\n",
        "\n",
        "print(mail_id_list)\n",
        "print(type(mail_id_list))"
      ],
      "metadata": {
        "colab": {
          "base_uri": "https://localhost:8080/"
        },
        "id": "aolcETbICxjY",
        "outputId": "ec42de93-3489-4eb0-ca8a-5a611f200872"
      },
      "execution_count": null,
      "outputs": [
        {
          "output_type": "stream",
          "name": "stdout",
          "text": [
            "[b'626', b'627', b'629', b'630', b'631', b'632', b'633']\n",
            "<class 'list'>\n"
          ]
        }
      ]
    },
    {
      "cell_type": "code",
      "source": [
        "msgs=[]   #Empty list to capture all message from Each Mail Ids from 'mail_id_list'\n",
        "\n",
        "#Iterate through messages and Extract data into the 'msgs' list\n",
        "for i in mail_id_list:\n",
        "  typ,data=my_mail.fetch(i,'(RFC822)')    #RFC822 returns whole message\n",
        "  msgs.append(data)\n",
        "\n",
        "print(msgs)\n",
        "print(type(msgs[0]))\n",
        "print(msgs[0])"
      ],
      "metadata": {
        "id": "FZPR7Cyu8YIi"
      },
      "execution_count": null,
      "outputs": []
    },
    {
      "cell_type": "markdown",
      "source": [
        "## Now We have all meassages but with a lot of details\n",
        "So, we have to Extract the Main part fron the Email"
      ],
      "metadata": {
        "id": "wsb8JFuuFudO"
      }
    },
    {
      "cell_type": "code",
      "source": [
        "#In a multipart e-mail, email.message.Message.get_payload() returns a\n",
        "# list with one item for each part. The easiest way is to walk the message\n",
        "# and get the payload on each part:\n",
        "\n",
        "#The Message object consists of headers and payloads where payload is the body of the emails\n",
        "\n",
        "def data_extract_GMAIL():\n",
        "  a=''\n",
        "  for i in msgs[::-1]:\n",
        "    for j in i:\n",
        "      if(type(j)) is tuple:\n",
        "        my_msg=email.message_from_bytes((j[1]))\n",
        "        #print(\"_________________________________\")\n",
        "        a+='Subj: '\n",
        "        a+=my_msg['subject']\n",
        "        a+='\\tfrom: '\n",
        "        a+=my_msg['from']\n",
        "        a+='\\tDate: '\n",
        "        a+=my_msg['date']\n",
        "        a+='\\tbody: '\n",
        "        for part in my_msg.walk():\n",
        "        #print(part.get_content_type())\n",
        "          if part.get_content_type()=='text/plain':\n",
        "            a+=part.get_payload()\n",
        "        a+='\\n'\n",
        "  return a\n",
        "#data=data_extract_GMAIL()\n",
        "#print(data)\n",
        "#print(data_extract_GMAIL())"
      ],
      "metadata": {
        "id": "0JH3rtCtFn9y"
      },
      "execution_count": null,
      "outputs": []
    },
    {
      "cell_type": "markdown",
      "source": [
        "# Extract data from PDF Files\n",
        "\n"
      ],
      "metadata": {
        "id": "PbvT_SuBrjeh"
      }
    },
    {
      "cell_type": "code",
      "source": [
        "!pip install PyPDF2\n",
        "!pip install fpdf"
      ],
      "metadata": {
        "colab": {
          "base_uri": "https://localhost:8080/"
        },
        "id": "1Qr8rYf0_Lxa",
        "outputId": "24a113e3-de60-4b9b-93e8-e3df42fa72ea"
      },
      "execution_count": null,
      "outputs": [
        {
          "output_type": "stream",
          "name": "stdout",
          "text": [
            "Collecting PyPDF2\n",
            "  Downloading pypdf2-3.0.1-py3-none-any.whl (232 kB)\n",
            "\u001b[2K     \u001b[90m━━━━━━━━━━━━━━━━━━━━━━━━━━━━━━━━━━━━━━━━\u001b[0m \u001b[32m232.6/232.6 kB\u001b[0m \u001b[31m2.1 MB/s\u001b[0m eta \u001b[36m0:00:00\u001b[0m\n",
            "\u001b[?25hInstalling collected packages: PyPDF2\n",
            "Successfully installed PyPDF2-3.0.1\n",
            "Collecting fpdf\n",
            "  Downloading fpdf-1.7.2.tar.gz (39 kB)\n",
            "  Preparing metadata (setup.py) ... \u001b[?25l\u001b[?25hdone\n",
            "Building wheels for collected packages: fpdf\n",
            "  Building wheel for fpdf (setup.py) ... \u001b[?25l\u001b[?25hdone\n",
            "  Created wheel for fpdf: filename=fpdf-1.7.2-py2.py3-none-any.whl size=40702 sha256=91e09b190eee335651f4d1f8cd5aa8aae04b7b63b90e47a3b26b8228c1469d74\n",
            "  Stored in directory: /root/.cache/pip/wheels/f9/95/ba/f418094659025eb9611f17cbcaf2334236bf39a0c3453ea455\n",
            "Successfully built fpdf\n",
            "Installing collected packages: fpdf\n",
            "Successfully installed fpdf-1.7.2\n"
          ]
        }
      ]
    },
    {
      "cell_type": "code",
      "source": [
        "import PyPDF2 as pdf\n",
        "from fpdf import FPDF"
      ],
      "metadata": {
        "id": "yNzXJSeB_Nlo"
      },
      "execution_count": null,
      "outputs": []
    },
    {
      "cell_type": "code",
      "source": [
        "def data_extract_PDF():\n",
        "  a=input('Enter the PDF file name/path : ')\n",
        "  reader=pdf.PdfReader(a)\n",
        "  n=len(reader.pages)\n",
        "  for i in range(n):\n",
        "    a+=reader.pages[i].extract_text()\n",
        "  return a\n",
        "\n",
        "  #print(reader.pages[0].extract_text())\n",
        "  #print(type(reader.pages[0].extract_text()))\n",
        "\n",
        "#print(data)\n",
        "print(type(data))\n"
      ],
      "metadata": {
        "id": "8BXh6GXRuf8X"
      },
      "execution_count": null,
      "outputs": []
    },
    {
      "cell_type": "markdown",
      "source": [
        "# Extract data from .TXT"
      ],
      "metadata": {
        "id": "hwHDdI9qNEjr"
      }
    },
    {
      "cell_type": "code",
      "source": [
        "data=[]\n",
        "def data_extract_TXT():\n",
        "  a=input('Enter the TEXT file name/path : ')\n",
        "  data=[]\n",
        "  file=open(a,'r')\n",
        "  content=file.readlines()\n",
        "  content='\\n'.join(content)\n",
        "  #print(content)\n",
        "  print(type(content))\n",
        "  return content\n"
      ],
      "metadata": {
        "id": "-86wpmYcugFL"
      },
      "execution_count": null,
      "outputs": []
    },
    {
      "cell_type": "markdown",
      "source": [
        "# This is the setup for using of GEMINI API"
      ],
      "metadata": {
        "id": "xQiEHm2Yugcb"
      }
    },
    {
      "cell_type": "code",
      "source": [
        "!pip install -q -U google-generativeai"
      ],
      "metadata": {
        "id": "CA_rHmNuUm1A",
        "colab": {
          "base_uri": "https://localhost:8080/"
        },
        "outputId": "352af969-a7eb-4686-f909-ab92f939fb24"
      },
      "execution_count": null,
      "outputs": [
        {
          "output_type": "stream",
          "name": "stdout",
          "text": [
            "\u001b[2K     \u001b[90m━━━━━━━━━━━━━━━━━━━━━━━━━━━━━━━━━━━━━━━━\u001b[0m \u001b[32m163.1/163.1 kB\u001b[0m \u001b[31m1.3 MB/s\u001b[0m eta \u001b[36m0:00:00\u001b[0m\n",
            "\u001b[2K     \u001b[90m━━━━━━━━━━━━━━━━━━━━━━━━━━━━━━━━━━━━━━━━\u001b[0m \u001b[32m717.3/717.3 kB\u001b[0m \u001b[31m11.0 MB/s\u001b[0m eta \u001b[36m0:00:00\u001b[0m\n",
            "\u001b[?25h"
          ]
        }
      ]
    },
    {
      "cell_type": "code",
      "source": [
        "# Import the Python SDK\n",
        "import google.generativeai as genai\n",
        "# Used to securely store your API key\n",
        "from google.colab import userdata\n",
        "\n",
        "GOOGLE_API_KEY=userdata.get('GOOGLE_API_KEY')\n",
        "genai.configure(api_key=GOOGLE_API_KEY)"
      ],
      "metadata": {
        "id": "rS4YEufrwVcq"
      },
      "execution_count": null,
      "outputs": []
    },
    {
      "cell_type": "markdown",
      "source": [
        "# List all gemini models which are there in google-generative-ai library\n",
        "### 1. gemini-1.5-pro :\n",
        "Inputs : Audio, images, videos, and text\n",
        "Outputs : Text\n",
        "Optimized for : Complex reasoning tasks such as code and text generation, text editing, problem solving, data extraction and generation\n",
        "### gemini-1.5-flash :\n",
        "Inputs : Audio, images, videos, and text\n",
        "Outputs : Text\n",
        "Optimied for : Fast and versatile performance across a diverse variety of tasks\n",
        "### gemini-1.0-pro :\n",
        "Inputs : Text\n",
        "Outputs : Text\n",
        "Optimized for : Natural language tasks, multi-turn text and code chat, and code generation\n",
        "### gemini-pro-vision :\n",
        "Inputs : Images, videos, and text\n",
        "Outputs : Text\n",
        "Optimized for : Visual-related tasks, like generating image descriptions or identifying objects in images\n",
        "### text-embedding-004 :\n",
        "Inputs : Text\n",
        "Outputs : Text embeddings\n",
        "Optimized for : Measuring the relatedness of text strings\n"
      ],
      "metadata": {
        "id": "-_gqhCTfxf9g"
      }
    },
    {
      "cell_type": "code",
      "source": [
        "for n in genai.list_models():\n",
        "  if 'generateContent' in n.supported_generation_methods:\n",
        "    print(n.name)"
      ],
      "metadata": {
        "colab": {
          "base_uri": "https://localhost:8080/"
        },
        "id": "qT8LQLMOxVfA",
        "outputId": "87d342e3-07b1-4ee0-bd38-551c69dc352c",
        "collapsed": true
      },
      "execution_count": null,
      "outputs": [
        {
          "output_type": "stream",
          "name": "stdout",
          "text": [
            "models/gemini-1.0-pro\n",
            "models/gemini-1.0-pro-001\n",
            "models/gemini-1.0-pro-latest\n",
            "models/gemini-1.0-pro-vision-latest\n",
            "models/gemini-1.5-flash\n",
            "models/gemini-1.5-flash-001\n",
            "models/gemini-1.5-flash-latest\n",
            "models/gemini-1.5-pro\n",
            "models/gemini-1.5-pro-001\n",
            "models/gemini-1.5-pro-latest\n",
            "models/gemini-pro\n",
            "models/gemini-pro-vision\n"
          ]
        }
      ]
    },
    {
      "cell_type": "markdown",
      "source": [
        "## So, for NLP we use :\n",
        "### gemini-1.0-pro-latest"
      ],
      "metadata": {
        "id": "SjCjyBfb0X3O"
      }
    },
    {
      "cell_type": "code",
      "source": [
        "model=genai.GenerativeModel('gemini-1.0-pro-001')"
      ],
      "metadata": {
        "id": "woiZU_VX0v5b"
      },
      "execution_count": null,
      "outputs": []
    },
    {
      "cell_type": "markdown",
      "source": [
        "# This is to be run before running the below GEMINI function if data is taken from .txt and .pdf files"
      ],
      "metadata": {
        "id": "3uM7KJgushxN"
      }
    },
    {
      "cell_type": "code",
      "source": [
        "def DataExtractFromPDForTXTorGMAIL(z):\n",
        "  if z==0:\n",
        "    return data_extract_PDF()\n",
        "  elif z==1:\n",
        "    return data_extract_TXT()\n",
        "  elif z==2:\n",
        "    return data_extract_GMAIL()\n",
        "  else:\n",
        "    print(\"Please Enter Valid Number !!!!!!!\")\n",
        "\n",
        "z=int(input('''Press 0 to extract data from PDF File :\n",
        "Press 1 to extract data from TEXT File :\n",
        "Press 2 to extract data from GMAIL data : '''))\n",
        "\n",
        "data=DataExtractFromPDForTXTorGMAIL(z)"
      ],
      "metadata": {
        "colab": {
          "base_uri": "https://localhost:8080/"
        },
        "id": "7ypXqvtAsgtf",
        "outputId": "3a19a3ed-9caf-4f67-dc70-f41411ba7ae9"
      },
      "execution_count": null,
      "outputs": [
        {
          "name": "stdout",
          "output_type": "stream",
          "text": [
            "Press 0 to extract data from PDF File :\n",
            "Press 1 to extract data from TEXT File :\n",
            "Press 2 to extract data from GMAIL data : 2\n"
          ]
        }
      ]
    },
    {
      "cell_type": "markdown",
      "source": [
        "## This is the query which is to be passed to GEMINI with the extracted data to get the desired result"
      ],
      "metadata": {
        "id": "-pRxfBwn2QHp"
      }
    },
    {
      "cell_type": "code",
      "source": [
        "Data_of_orders=data\n",
        "Query='''In the above text Extract the food/vegetables names which are ordered, quatity of each order,date,email id , phone no. and also the payment method form the text.\n",
        " Make extract data in Comma Separated Values format and return it as in the comma separeted values format there will be six columns. And at first the columns name should be there\n",
        " The column names are strictly in the below format :\n",
        " Phone_no,Email_Id,Food_Name,Quantity,Payment_Method,Date. If any of the data is unavailable for each customer in the text then simply write it as 'NULL' in the CSV'''\n",
        "print(type(data))"
      ],
      "metadata": {
        "id": "2AYuh7VY4MFB",
        "colab": {
          "base_uri": "https://localhost:8080/"
        },
        "outputId": "2c0b5a77-c358-4a04-ec06-39fe953d314b"
      },
      "execution_count": null,
      "outputs": [
        {
          "output_type": "stream",
          "name": "stdout",
          "text": [
            "<class 'str'>\n"
          ]
        }
      ]
    },
    {
      "cell_type": "code",
      "source": [
        "response = model.generate_content(Data_of_orders + \"     \" + Query)\n",
        "print(response.text)\n",
        "print(type(response.text))\n",
        "a=response.text"
      ],
      "metadata": {
        "colab": {
          "base_uri": "https://localhost:8080/",
          "height": 347
        },
        "id": "aRQquRDv2QyS",
        "outputId": "690969fc-74cc-4f00-ed89-acaf89ec9f2f"
      },
      "execution_count": null,
      "outputs": [
        {
          "output_type": "stream",
          "name": "stdout",
          "text": [
            "Phone_no,Email_Id,Food_Name,Quantity,Payment_Method,Date\n",
            "NULL,subhajoymukherjee2003@gmail.com,potatoes,2kg,NULL,10 Jun 2024\n",
            "NULL,subhajoymukherjee2003@gmail.com,onions,1kg,NULL,10 Jun 2024\n",
            "NULL,subhajoymukherjee2003@gmail.com,cauliflower,1kg,NULL,10 Jun 2024\n",
            "NULL,subhajoymukherjee2003@gmail.com,chips,5 packets,NULL,10 Jun 2024\n",
            "NULL,subhajoymukherjee2003@gmail.com,cookies,3 packets,NULL,10 Jun 2024\n",
            "NULL,subhajoymukherjee2003@gmail.com,juice,2L bottle,NULL,10 Jun 2024\n",
            "NULL,subhajoymukherjee2003@gmail.com,eggs,2 dozen,NULL,10 Jun 2024\n",
            "NULL,subhajoymukherjee2003@gmail.com,milk,1L carton,NULL,10 Jun 2024\n",
            "NULL,subhajoymukherjee2003@gmail.com,apples,3kg,NULL,10 Jun 2024\n",
            "NULL,subhajoymukherjee2003@gmail.com,oranges,2kg,NULL,10 Jun 2024\n",
            "NULL,subhajoymukherjee2003@gmail.com,bananas,1kg,NULL,10 Jun 2024\n",
            "NULL,subhajoymukherjee2003@gmail.com,basmati rice,1kg,Netbanking,10 Jun 2024\n",
            "NULL,subhajoymukherjee2003@gmail.com,urad dal,500g,NULL,10 Jun 2024\n",
            "NULL,subhajoymukherjee2003@gmail.com,green moong dal,250g,NULL,10 Jun 2024\n",
            "NULL,subhajoymukherjee2003@gmail.com,tissues,1 box,Cash on delivery,10 Jun 2024\n",
            "NULL,subhajoymukherjee2003@gmail.com,hand sanitizer,NULL,Cash on delivery,10 Jun 2024\n",
            "NULL,subhajoymukherjee2003@gmail.com,dishwashing liquid,1 bottle,PhonePe,10 Jun 2024\n",
            "<class 'str'>\n"
          ]
        }
      ]
    },
    {
      "cell_type": "code",
      "source": [
        "a=response.text"
      ],
      "metadata": {
        "id": "ZbIg9MPVZth0"
      },
      "execution_count": null,
      "outputs": []
    },
    {
      "cell_type": "markdown",
      "source": [
        "# Save the Gemini Output to a CSV File"
      ],
      "metadata": {
        "id": "G5KZ9oNLrknk"
      }
    },
    {
      "cell_type": "code",
      "source": [
        "import csv\n",
        "from csv import writer\n",
        "import pandas as pd"
      ],
      "metadata": {
        "id": "QQtn3-2arsAU"
      },
      "execution_count": null,
      "outputs": []
    },
    {
      "cell_type": "code",
      "source": [
        "def edit_csv(a):\n",
        "  if v==0:\n",
        "    with open('Example.csv','w')as out:\n",
        "      out.write(a)\n",
        "      out.close()\n",
        "  else:\n",
        "    df1=pd.DataFrame()\n",
        "    df1=pd.read_csv('Example.csv')\n",
        "    with open('Example.csv','w')as out:\n",
        "      out.write(a)\n",
        "      out.close()\n",
        "    df2=pd.read_csv('Example.csv')\n",
        "    df3=pd.concat([df1,df2],ignore_index=True)\n",
        "    df3.to_csv('Example.csv')\n",
        "v=int(input('''Press 0 to make a fresh CSV file with the data :\n",
        "Press 1 to add the data in the existing CSV file :'''))\n",
        "edit_csv(a)\n",
        "\n",
        "\n",
        "\n",
        "\n",
        "\n"
      ],
      "metadata": {
        "id": "EZunuNm9rzEs",
        "colab": {
          "base_uri": "https://localhost:8080/"
        },
        "outputId": "1330c271-c21d-4614-9c6c-75aff4c8453a"
      },
      "execution_count": null,
      "outputs": [
        {
          "name": "stdout",
          "output_type": "stream",
          "text": [
            "Press 0 to make a fresh CSV file with the data :\n",
            "Press 1 to add the data in the existing CSV file :1\n"
          ]
        }
      ]
    }
  ]
}