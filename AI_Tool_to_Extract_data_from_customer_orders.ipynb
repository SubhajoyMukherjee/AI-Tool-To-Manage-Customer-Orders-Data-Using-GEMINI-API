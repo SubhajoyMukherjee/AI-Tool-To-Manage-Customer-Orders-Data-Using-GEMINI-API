{
  "nbformat": 4,
  "nbformat_minor": 0,
  "metadata": {
    "colab": {
      "provenance": [],
      "collapsed_sections": [
        "95c_srdb-UKq",
        "hahDf2gVykPy",
        "owo89Y5CzN4C",
        "SmIBOR4lz-R_",
        "1gR4uO-f1DuJ",
        "PbvT_SuBrjeh",
        "xQiEHm2Yugcb",
        "-_gqhCTfxf9g"
      ],
      "authorship_tag": "ABX9TyPJvDBmwxFFrrst1Uv/MWUX",
      "include_colab_link": true
    },
    "kernelspec": {
      "name": "python3",
      "display_name": "Python 3"
    },
    "language_info": {
      "name": "python"
    }
  },
  "cells": [
    {
      "cell_type": "markdown",
      "metadata": {
        "id": "view-in-github",
        "colab_type": "text"
      },
      "source": [
        "<a href=\"https://colab.research.google.com/github/SubhajoyMukherjee/AI-Tool-To-Manage-Customer-Orders-Data-Using-GEMINI-API/blob/main/AI_Tool_to_Extract_data_from_customer_orders.ipynb\" target=\"_parent\"><img src=\"https://colab.research.google.com/assets/colab-badge.svg\" alt=\"Open In Colab\"/></a>"
      ]
    },
    {
      "cell_type": "markdown",
      "source": [
        "# Mail data Extraction\n",
        "Steps of data extractio from GMAIL are :\n",
        "1. Make sure IMAP is enabled in Gmail Setting\n",
        "  (Log in in the Gmail Account and go to the Settings, See all settings, and select 'Forwarding and POP/IMAP' tab. In the \"IMAP access\" section, select Enable IMAP.)\n",
        "\n",
        "2. If the two factor Authentification is enabled, it is required to create an application specific password that the code need to use.\n",
        "  (Go to Gmail Account Setting and click on 'Security'. Scroll down to 2-step Verification. Select mail under Select App, and Other under Select Device. Give a name and the system gives you a password that you need to use to authenticate from python IMAP)"
      ],
      "metadata": {
        "id": "95c_srdb-UKq"
      }
    },
    {
      "cell_type": "code",
      "source": [
        "#Importing libraries for Gamil data extraction\n",
        "import imaplib as imap\n",
        "import email\n",
        "import yaml     #To load saved login credential from a yaml file\n",
        "\n"
      ],
      "metadata": {
        "id": "8co1SZE_HQ7g"
      },
      "execution_count": null,
      "outputs": []
    },
    {
      "cell_type": "markdown",
      "source": [
        "# The Below Code cell is to import deatils from .yaml file if the code is run in VSCODE/Local Device\n",
        "###  Before running the Code Please remove the muti-line comments sign the two blocks and Follow the Commented instruction"
      ],
      "metadata": {
        "id": "hahDf2gVykPy"
      }
    },
    {
      "cell_type": "code",
      "source": [
        "'''\n",
        "#Save the MailId and Password to a .yml file to access the details through python code\n",
        "#Give a Name of the .yml File. i.e. 'Gmail_Credential.yml'\n",
        "#Inside the .yml File wite the MailId and Password in the below format(KEY-VALUE Pair Format):\n",
        "      #user: \"xyz@gmail.com\"\n",
        "      #password: \"23415178\"\n",
        "#Then Access the details of the .yml File by the code and the path of the FILE\n",
        "with open(\"C:/Users/subha/Downloads/Gmail_Credential.yml\") as f:\n",
        "  content=f.read()\n",
        "\n",
        "'''"
      ],
      "metadata": {
        "colab": {
          "base_uri": "https://localhost:8080/",
          "height": 88
        },
        "id": "OIldhp-2rj3e",
        "outputId": "112e5443-8a57-47b5-96f7-c7082e55b51e"
      },
      "execution_count": null,
      "outputs": [
        {
          "output_type": "execute_result",
          "data": {
            "text/plain": [
              "'\\n#Save the MailId and Password to a .yml file to access the details through python code\\n#Give a Name of the .yml File. i.e. \\'Gmail_Credential.yml\\'\\n#Inside the .yml File wite the MailId and Password in the below format(KEY-VALUE Pair Format):\\n      #user: \"xyz@gmail.com\"\\n      #password: \"23415178\"\\n#Then Access the details of the .yml File by the code and the path of the FILE\\nwith open(\"C:/Users/subha/Downloads/Gmail_Credential.yml\") as f:\\n  content=f.read()    \\n\\n'"
            ],
            "application/vnd.google.colaboratory.intrinsic+json": {
              "type": "string"
            }
          },
          "metadata": {},
          "execution_count": 42
        }
      ]
    },
    {
      "cell_type": "code",
      "source": [
        "'''\n",
        "#From \"Gmail_Credential.yml\" file import username and password\n",
        "my_credentials=yaml.load(content,Loader=yaml.FullLoader)\n",
        "\n",
        "#Load the Username and pasword from yaml file\n",
        "Username,Password=my_credentials['user'],my_credentials['password']   '''"
      ],
      "metadata": {
        "colab": {
          "base_uri": "https://localhost:8080/",
          "height": 53
        },
        "id": "w-Gf1kpVrsLP",
        "outputId": "962174df-359e-4f7b-b1ae-a8b6d1de5186"
      },
      "execution_count": null,
      "outputs": [
        {
          "output_type": "execute_result",
          "data": {
            "text/plain": [
              "'\\n#From \"Gmail_Credential.yml\" file import username and password\\nmy_credentials=yaml.load(content,Loader=yaml.FullLoader)\\n\\n#Load the Username and pasword from yaml file\\nUsername,Password=my_credentials[\\'user\\'],my_credentials[\\'password\\']   '"
            ],
            "application/vnd.google.colaboratory.intrinsic+json": {
              "type": "string"
            }
          },
          "metadata": {},
          "execution_count": 43
        }
      ]
    },
    {
      "cell_type": "markdown",
      "source": [
        "#The Below Code cell is to import Gmail Credentials from Google Colab Secrets if the code is run in GOOGLE COLAB\n"
      ],
      "metadata": {
        "id": "owo89Y5CzN4C"
      }
    },
    {
      "cell_type": "code",
      "source": [
        "# Used to securely store your API key\n",
        "from google.colab import userdata\n",
        "Username=userdata.get('Username1')\n",
        "Password=userdata.get('password1')\n"
      ],
      "metadata": {
        "id": "sR6JHPT5zfO7"
      },
      "execution_count": null,
      "outputs": []
    },
    {
      "cell_type": "markdown",
      "source": [
        "# Log in to Gmail using the credentials through Python and IMAP"
      ],
      "metadata": {
        "id": "SmIBOR4lz-R_"
      }
    },
    {
      "cell_type": "code",
      "source": [
        "#URL for IMAP connection to GMAIL\n",
        "imap_url='imap.gmail.com'\n",
        "\n",
        "#Connection with gmail using SSL\n",
        "my_mail=imap.IMAP4_SSL(imap_url)\n",
        "\n",
        "#Log in to GMAIL using Credentials\n",
        "my_mail.login(Username,Password)\n"
      ],
      "metadata": {
        "colab": {
          "base_uri": "https://localhost:8080/"
        },
        "id": "bHcJ-_7c0RUT",
        "outputId": "1ad54fd2-e78e-4849-e50f-03a9dcb0bc12"
      },
      "execution_count": null,
      "outputs": [
        {
          "output_type": "execute_result",
          "data": {
            "text/plain": [
              "('OK', [b'freeofcost789@gmail.com authenticated (Success)'])"
            ]
          },
          "metadata": {},
          "execution_count": 6
        }
      ]
    },
    {
      "cell_type": "markdown",
      "source": [
        "#Fetch Mail Details/Mails from GMAIL Inbox"
      ],
      "metadata": {
        "id": "1gR4uO-f1DuJ"
      }
    },
    {
      "cell_type": "code",
      "source": [
        "#Select the INBOX to fetch messages\n",
        "my_mail.select('Inbox')   #It will return the status of the process and also how many mails are there in the INBOX\n",
        "\n",
        "#print(type(my_mail))  : <class 'imaplib.IMAP4_SSL'>\n"
      ],
      "metadata": {
        "colab": {
          "base_uri": "https://localhost:8080/"
        },
        "id": "K4oYDOVe1TbO",
        "outputId": "85cbac37-1660-4aa0-b628-e80ace6ed8f5"
      },
      "execution_count": null,
      "outputs": [
        {
          "output_type": "execute_result",
          "data": {
            "text/plain": [
              "('OK', [b'653'])"
            ]
          },
          "metadata": {},
          "execution_count": 7
        }
      ]
    },
    {
      "cell_type": "code",
      "source": [
        "#Define the key value for email search\n",
        "\n",
        "key='Subject'\n",
        "value='order'\n",
        "\n",
        "#Search for emails with specific key value\n",
        "result,data=my_mail.search(None, key, value) #Here Data is the List of Mail Ids matches the Search Criteria\n",
        "print(type(data))\n",
        "print(data)"
      ],
      "metadata": {
        "colab": {
          "base_uri": "https://localhost:8080/"
        },
        "id": "98OKszPg8EEb",
        "outputId": "fcae3728-1b93-4b17-d83a-eb8320018f64"
      },
      "execution_count": null,
      "outputs": [
        {
          "output_type": "stream",
          "name": "stdout",
          "text": [
            "<class 'list'>\n",
            "[b'626 627 629 630 631 632 633']\n"
          ]
        }
      ]
    },
    {
      "cell_type": "code",
      "source": [
        "#In the variable 'data' all the Mail Ids are stored as a Single string\n",
        "#So to access each of the Mail Id from 'data' we need to split it\n",
        "#IDs of all emails that we want to fetch\n",
        "mail_id_list=data[0].split()\n",
        "\n",
        "print(mail_id_list)\n",
        "print(type(mail_id_list))"
      ],
      "metadata": {
        "colab": {
          "base_uri": "https://localhost:8080/"
        },
        "id": "aolcETbICxjY",
        "outputId": "ec42de93-3489-4eb0-ca8a-5a611f200872"
      },
      "execution_count": null,
      "outputs": [
        {
          "output_type": "stream",
          "name": "stdout",
          "text": [
            "[b'626', b'627', b'629', b'630', b'631', b'632', b'633']\n",
            "<class 'list'>\n"
          ]
        }
      ]
    },
    {
      "cell_type": "code",
      "source": [
        "msgs=[]   #Empty list to capture all message from Each Mail Ids from 'mail_id_list'\n",
        "\n",
        "#Iterate through messages and Extract data into the 'msgs' list\n",
        "for i in mail_id_list:\n",
        "  typ,data=my_mail.fetch(i,'(RFC822)')    #RFC822 returns whole message\n",
        "  msgs.append(data)\n",
        "\n",
        "print(msgs)\n",
        "print(type(msgs[0]))\n",
        "print(msgs[0])"
      ],
      "metadata": {
        "colab": {
          "base_uri": "https://localhost:8080/"
        },
        "id": "FZPR7Cyu8YIi",
        "outputId": "a0498454-b2ba-4ae5-ada7-d1f657a8eba2"
      },
      "execution_count": null,
      "outputs": [
        {
          "output_type": "stream",
          "name": "stdout",
          "text": [
            "[[(b'626 (RFC822 {5529}', b'Delivered-To: freeofcost789@gmail.com\\r\\nReceived: by 2002:adf:a30c:0:b0:35f:1c40:2693 with SMTP id c12csp691251wrb;\\r\\n        Mon, 10 Jun 2024 03:01:24 -0700 (PDT)\\r\\nX-Received: by 2002:a67:f1cc:0:b0:48c:4213:93ff with SMTP id ada2fe7eead31-48c42139690mr4962786137.25.1718013684499;\\r\\n        Mon, 10 Jun 2024 03:01:24 -0700 (PDT)\\r\\nARC-Seal: i=1; a=rsa-sha256; t=1718013684; cv=none;\\r\\n        d=google.com; s=arc-20160816;\\r\\n        b=nX+rpdasoQI2DNOR/BJIQe868looB5oh1EZPhml2DiMPbiS85j6sE4ZMJbmWTOr205\\r\\n         iE60g5rN/+bnmvqH+A01L1FLZupS1ubG/5CvtaAn/U1P4BHGm1MozkJokniZbhh6+Wh4\\r\\n         3VPIFyGg4AAiq9nDazeqzQUp7FHBB1saUcLTl38XGhlpqs6HRJ1FWz+sf1083UuTP7qi\\r\\n         f2QfqHxn5Mhc48c5QTUt5Ywy20vMwVlFB3vVeA2nwwBShn4ck7neOp9aLcpvN45mpi/Q\\r\\n         lTVtrpD4OsxuQ/GEr/6Ue5SJFBEoex8D77RR1p0/HhUcofvRK2KPti842pQYiHQIW/F1\\r\\n         c5QA==\\r\\nARC-Message-Signature: i=1; a=rsa-sha256; c=relaxed/relaxed; d=google.com; s=arc-20160816;\\r\\n        h=to:subject:message-id:date:from:mime-version:dkim-signature;\\r\\n        bh=Kcemz9dh4loM7CRac7HEttFEtrdk4XCiOoU/3AHyS40=;\\r\\n        fh=LpQCi3xxGTFmRKfeyIq/hJVeW1dYmMLToDLEu+mVoYU=;\\r\\n        b=hFSZykWG3FLfMz/7SuJG9tatDB5oL7IYCcG9GDbHNuKcGjfePTxcENsq5UZtrUR404\\r\\n         aLJP3I3ykYvRb/iK4KzwaiddaDP+1rIpDlzHFEYNc/HPofRx1xS3KLi2dks8tpwXRHrf\\r\\n         U9UosrM2T/EA+3mMlrxR+j9wDctuIV2gCOYDr/tPqC9opB01fN+w9p5mn2uipCbmts9u\\r\\n         M13iDxOpz6+7QM27BBx/SfsRIsaIuDzpH0WTHMJ1YVwWDMc8k0ZaFquLTX1wN5Ne/pZW\\r\\n         D9Jstaq0Vi5IoqADwKlFKrQ17xI84qonwXnAW4hK6z5apC7IAoyzTJmlTKfXv8lX0Acb\\r\\n         iG7Q==;\\r\\n        dara=google.com\\r\\nARC-Authentication-Results: i=1; mx.google.com;\\r\\n       dkim=pass header.i=@gmail.com header.s=20230601 header.b=PL8nqMqO;\\r\\n       spf=pass (google.com: domain of subhajoymukherjee2003@gmail.com designates 209.85.220.41 as permitted sender) smtp.mailfrom=subhajoymukherjee2003@gmail.com;\\r\\n       dmarc=pass (p=NONE sp=QUARANTINE dis=NONE) header.from=gmail.com\\r\\nReturn-Path: <subhajoymukherjee2003@gmail.com>\\r\\nReceived: from mail-sor-f41.google.com (mail-sor-f41.google.com. [209.85.220.41])\\r\\n        by mx.google.com with SMTPS id ada2fe7eead31-48d7130e449sor472976137.0.2024.06.10.03.01.24\\r\\n        for <freeofcost789@gmail.com>\\r\\n        (Google Transport Security);\\r\\n        Mon, 10 Jun 2024 03:01:24 -0700 (PDT)\\r\\nReceived-SPF: pass (google.com: domain of subhajoymukherjee2003@gmail.com designates 209.85.220.41 as permitted sender) client-ip=209.85.220.41;\\r\\nAuthentication-Results: mx.google.com;\\r\\n       dkim=pass header.i=@gmail.com header.s=20230601 header.b=PL8nqMqO;\\r\\n       spf=pass (google.com: domain of subhajoymukherjee2003@gmail.com designates 209.85.220.41 as permitted sender) smtp.mailfrom=subhajoymukherjee2003@gmail.com;\\r\\n       dmarc=pass (p=NONE sp=QUARANTINE dis=NONE) header.from=gmail.com\\r\\nDKIM-Signature: v=1; a=rsa-sha256; c=relaxed/relaxed;\\r\\n        d=gmail.com; s=20230601; t=1718013684; x=1718618484; dara=google.com;\\r\\n        h=to:subject:message-id:date:from:mime-version:from:to:cc:subject\\r\\n         :date:message-id:reply-to;\\r\\n        bh=Kcemz9dh4loM7CRac7HEttFEtrdk4XCiOoU/3AHyS40=;\\r\\n        b=PL8nqMqOxEONMIEmLnhHcuj1OV6iz4JmPcwNr3NwUdbVKFDPvGIM+P8YMvZYgL0xXi\\r\\n         hY8bnXFbhTNS1j2ZGg0VhZyubJEy7khRA5pzUJcHLn/c4RvCl197o0WbTphuG80C+Gwz\\r\\n         lmhJNqkCb4MALsJfyx1qENNT15j5rjMlbVBW1l1UMg2EWS7KD1xMhUoqiFIxVF5HRgtK\\r\\n         HdkPWt0itGSMGZ9CjsloLCU18pSQ/TwVx4iolMhaBF5ZogO1u+CeT3yOKebDan2l/0y8\\r\\n         NuYZBU/0+mTiXT67V2M+GnPH67f6JXNAOfMH/VsG5U/pzm040ayYrqcY/DijthtObJW6\\r\\n         rFew==\\r\\nX-Google-DKIM-Signature: v=1; a=rsa-sha256; c=relaxed/relaxed;\\r\\n        d=1e100.net; s=20230601; t=1718013684; x=1718618484;\\r\\n        h=to:subject:message-id:date:from:mime-version:x-gm-message-state\\r\\n         :from:to:cc:subject:date:message-id:reply-to;\\r\\n        bh=Kcemz9dh4loM7CRac7HEttFEtrdk4XCiOoU/3AHyS40=;\\r\\n        b=o56/yoYjNTgZvGTJ31GV/1owtJCkmzHPVwDKEMTxgYOJK7aFAsNE1JKbDKO7wA59Wf\\r\\n         hEsNYVqcWWPHsiNlH4ND9OCc7+j4GwLJYX6hwx5UhrY4RiecoIKkMGh9CB5OrbUALeCg\\r\\n         Yz6mszNLODXj4q26fe12ef1mkqN1YdAfkrJ1Xw04GX12YN4rewYHF/N6AAAGXzie4TPl\\r\\n         4quOzCv792nr1T8epYkuYAIkL+o4cWU1tpmRSaKhEUxvkemR5mUMV2ZyIZAOKREuC3gj\\r\\n         FqJ6DjfZqj+OvgE612EC4Rm2jWHwx60gVdyamO2HVw0IIhc9NtXTLyH0oX1Se/k2NOuO\\r\\n         RKng==\\r\\nX-Gm-Message-State: AOJu0YzAwDIcFmjqKfZ5OiGnzLvJUZnis5aTMRlknFVyj6RwDUZLj0kY\\r\\n\\t6+z1ZcxGFYzr33DcROd9xIm6as7PB734PGW4AohOVs2eKkY6B2S5YXJxL4JTAW4Engb0GGcJoVd\\r\\n\\tgSDjHWvOLekSLW3v8ujQndZ5TEsVm/YEw2bBy\\r\\nX-Google-Smtp-Source: AGHT+IF5cKx863OIomHlOSVQywqAvV1FGWDk8EcvX9WPFS1xRA6JPyjQI2PrxAXp/MYw57dUQSKVp3+eqMOfHqXi5Sk=\\r\\nX-Received: by 2002:a67:ee53:0:b0:48c:4a10:ca7d with SMTP id\\r\\n ada2fe7eead31-48c4a10d4ebmr3347835137.28.1718013683816; Mon, 10 Jun 2024\\r\\n 03:01:23 -0700 (PDT)\\r\\nMIME-Version: 1.0\\r\\nFrom: AIML_25_Subhajoy Mukherjee <subhajoymukherjee2003@gmail.com>\\r\\nDate: Mon, 10 Jun 2024 15:31:13 +0530\\r\\nMessage-ID: <CALx4KH0wYqo6qDD5UPoob=5B2bTmjuRo4qWdKubhBdsJeHiWXw@mail.gmail.com>\\r\\nSubject: Order\\r\\nTo: freeofcost789@gmail.com\\r\\nContent-Type: multipart/alternative; boundary=\"00000000000057e370061a863b15\"\\r\\n\\r\\n--00000000000057e370061a863b15\\r\\nContent-Type: text/plain; charset=\"UTF-8\"\\r\\n\\r\\nJust realized we\\'re out of dishwashing liquid! Can I get a bottle delivered\\r\\nASAP?  Paid through PhonePe earlier today.\\r\\n\\r\\n--00000000000057e370061a863b15\\r\\nContent-Type: text/html; charset=\"UTF-8\"\\r\\nContent-Transfer-Encoding: quoted-printable\\r\\n\\r\\n<div dir=3D\"ltr\">Just realized we&#39;re out of dishwashing liquid! Can I g=\\r\\net a bottle delivered ASAP?=C2=A0 Paid through PhonePe earlier today.<br></=\\r\\ndiv>\\r\\n\\r\\n--00000000000057e370061a863b15--\\r\\n'), b')'], [(b'627 (RFC822 {5575}', b'Delivered-To: freeofcost789@gmail.com\\r\\nReceived: by 2002:adf:a30c:0:b0:35f:1c40:2693 with SMTP id c12csp691551wrb;\\r\\n        Mon, 10 Jun 2024 03:01:59 -0700 (PDT)\\r\\nX-Received: by 2002:a05:6830:1e69:b0:6f9:b6b5:5566 with SMTP id 46e09a7af769-6f9b6b55b4cmr2272028a34.20.1718013719716;\\r\\n        Mon, 10 Jun 2024 03:01:59 -0700 (PDT)\\r\\nARC-Seal: i=1; a=rsa-sha256; t=1718013719; cv=none;\\r\\n        d=google.com; s=arc-20160816;\\r\\n        b=zgcQKzUwbOuixYnn0Rq2VBYYcIoKPI1kH5Yxgqkli8Aw/45q1fzwX7yC9jWqC5YaOB\\r\\n         F9jl1G/Z8ckGIwWEq6LFFlSPATJ9PaJvYHEk9i1SaM1zpqXRUYykZtWLsdsdP2AZDrCf\\r\\n         ixR/NjmB2sCD+Vo2cx6NpwCqPLKlYmU8nrJCnk97MRq5XIksnF3j3ysy229l4AC8Q4lS\\r\\n         egGjRgfXFGMxN/BnfrUL63tkb9ACn7zF0SXm+WLga5yVJkkdEUoFu/R8OdBstQU9jvpa\\r\\n         eoMlXBmOTJQTGHf7H4jhXilLGpOBJc4a0u9ZAnOXwXpVyIi/rx//ZmeiINweIe3M8Yoc\\r\\n         EWXg==\\r\\nARC-Message-Signature: i=1; a=rsa-sha256; c=relaxed/relaxed; d=google.com; s=arc-20160816;\\r\\n        h=to:subject:message-id:date:from:mime-version:dkim-signature;\\r\\n        bh=hEmL1WaaqGNNCH0jSKj83oE8gLUGQ+/EeBqQbCy9H/A=;\\r\\n        fh=LpQCi3xxGTFmRKfeyIq/hJVeW1dYmMLToDLEu+mVoYU=;\\r\\n        b=A7FlTjBparbtVcoj8hFhDQHJsYwIQ4qn00kHP3B1wmIj+auYVAH3d20pk8UJBawuO+\\r\\n         tmYwK7BN7zxea9PTcti4kc8MuFsDOSfBZJNwTo6P/qQDVn9MNLhvHFe6gb2fy5P7WQkG\\r\\n         eYP17F401Gno7+z6GkxDc2IXPXS6jDeFZ8wVxF9Y1SXVZNdDFocTAXmJd90hVauJWPHe\\r\\n         5kHpRbvn101bYBPdRDi+mCsu1ltgCG2YtGzaDSPc+re6xLSkg2ln4zg7lz3gdMb+dSYG\\r\\n         tPypCPki+wQDUddZTpwcy1UMrNGs2VX2+5dzbVn46UHAiqixteF97hwAs5+jZ7hXaWET\\r\\n         9KXQ==;\\r\\n        dara=google.com\\r\\nARC-Authentication-Results: i=1; mx.google.com;\\r\\n       dkim=pass header.i=@gmail.com header.s=20230601 header.b=f11nwD+6;\\r\\n       spf=pass (google.com: domain of subhajoymukherjee2003@gmail.com designates 209.85.220.41 as permitted sender) smtp.mailfrom=subhajoymukherjee2003@gmail.com;\\r\\n       dmarc=pass (p=NONE sp=QUARANTINE dis=NONE) header.from=gmail.com\\r\\nReturn-Path: <subhajoymukherjee2003@gmail.com>\\r\\nReceived: from mail-sor-f41.google.com (mail-sor-f41.google.com. [209.85.220.41])\\r\\n        by mx.google.com with SMTPS id ada2fe7eead31-48c490acfb6sor893782137.1.2024.06.10.03.01.59\\r\\n        for <freeofcost789@gmail.com>\\r\\n        (Google Transport Security);\\r\\n        Mon, 10 Jun 2024 03:01:59 -0700 (PDT)\\r\\nReceived-SPF: pass (google.com: domain of subhajoymukherjee2003@gmail.com designates 209.85.220.41 as permitted sender) client-ip=209.85.220.41;\\r\\nAuthentication-Results: mx.google.com;\\r\\n       dkim=pass header.i=@gmail.com header.s=20230601 header.b=f11nwD+6;\\r\\n       spf=pass (google.com: domain of subhajoymukherjee2003@gmail.com designates 209.85.220.41 as permitted sender) smtp.mailfrom=subhajoymukherjee2003@gmail.com;\\r\\n       dmarc=pass (p=NONE sp=QUARANTINE dis=NONE) header.from=gmail.com\\r\\nDKIM-Signature: v=1; a=rsa-sha256; c=relaxed/relaxed;\\r\\n        d=gmail.com; s=20230601; t=1718013719; x=1718618519; dara=google.com;\\r\\n        h=to:subject:message-id:date:from:mime-version:from:to:cc:subject\\r\\n         :date:message-id:reply-to;\\r\\n        bh=hEmL1WaaqGNNCH0jSKj83oE8gLUGQ+/EeBqQbCy9H/A=;\\r\\n        b=f11nwD+6H1ww/beXlpqVwPGJogtiKCi+E269VkO2PbfWYf1fpJEeb7mrzGe0Ws2BDj\\r\\n         k/fwVOCusB4A7wX4789HtJcFrmfFT+gWGkwBdcizE+zA/oo1bTmGKlU1coSzu5RZeiYH\\r\\n         SGtuG4CdxOH3eb/umGyrc/0Mo1SZ4HEqFQt8bf4sLbiDs3b39a/rMBe8/HkxVjQVolP0\\r\\n         Jt5ezNPIwKG6Ui5L7L2XMLwU0hs4VGKQIfqGwiHz2QxjjXyOSaxo1rHGonJf/ZW8p+MZ\\r\\n         fYUHXuANuG6H+iHFfp1W8fALV02OWGAY1sTqM1sABlR4FgSxwVTU+397iVLymZMhT7WY\\r\\n         P2wQ==\\r\\nX-Google-DKIM-Signature: v=1; a=rsa-sha256; c=relaxed/relaxed;\\r\\n        d=1e100.net; s=20230601; t=1718013719; x=1718618519;\\r\\n        h=to:subject:message-id:date:from:mime-version:x-gm-message-state\\r\\n         :from:to:cc:subject:date:message-id:reply-to;\\r\\n        bh=hEmL1WaaqGNNCH0jSKj83oE8gLUGQ+/EeBqQbCy9H/A=;\\r\\n        b=ltTp26yl1L+naxCu9knPDkIp28Dhr2/CfbxEpn6DhE1RhyXfG+y2UiNdSjRB+23jaO\\r\\n         9iki+40COGFSePGCQ7E9bOr1AiCF810pa/WFIbM5tzhzgMcFEmRIiNTvKVTD9AESdqK3\\r\\n         cwl3eXKmfcB+6ZiH+m80qVV6QAJk+HM4jf1ZclxqKOkB3PBPyFjQHVIJmVHDWgkmbmSQ\\r\\n         +Vn05dPVi0oKXzceYZMNKTPETFLR2FOoa4qoLhuhXQXSgWpQW2Of+9yhwHiqVtsSbmNf\\r\\n         cUNmEVnEedFop2o1EuV75j4UTQBaFC3juexwScZTrDTAiqvrg0JSziVvjC0xDjaPiJZM\\r\\n         QJgg==\\r\\nX-Gm-Message-State: AOJu0YyPP9o2BVG3uImtEcgsVAgPZiPEZXonwq/QiymdyGiBfBXXCcT8\\r\\n\\tiSh/p/B5larRUcVoB/zInvh/DCB9vBXGsIwB0gIN05h/rS78/nFgu1Rfjd9tbn7NCJhwLga/8TL\\r\\n\\t9s0dizcsp/pEYBZZ0UhFjOlMRa6mUE0hG8z3q\\r\\nX-Google-Smtp-Source: AGHT+IExdO0WEhJSROl6I+RcrlzBGtQJTL6Alk+mhOti9L3Frv8Us0ZpYuyypesNaQUPVS5rgfOIqN9Vu3pXDK80Lvc=\\r\\nX-Received: by 2002:a67:f54c:0:b0:48c:396f:4a31 with SMTP id\\r\\n ada2fe7eead31-48c396f5474mr6298208137.18.1718013719047; Mon, 10 Jun 2024\\r\\n 03:01:59 -0700 (PDT)\\r\\nMIME-Version: 1.0\\r\\nFrom: AIML_25_Subhajoy Mukherjee <subhajoymukherjee2003@gmail.com>\\r\\nDate: Mon, 10 Jun 2024 15:31:49 +0530\\r\\nMessage-ID: <CALx4KH3Et_3Qq3gLc9rX7W73rj_E-Zs32=pdidPJgeFCi2R9KA@mail.gmail.com>\\r\\nSubject: order\\r\\nTo: freeofcost789@gmail.com\\r\\nContent-Type: multipart/alternative; boundary=\"000000000000717478061a863d1f\"\\r\\n\\r\\n--000000000000717478061a863d1f\\r\\nContent-Type: text/plain; charset=\"UTF-8\"\\r\\n\\r\\nHi, Need a box of tissues and some hand sanitizer - any brands will do.\\r\\nDelivery by tomorrow if possible. I\\'ll pay cash on delivery.\\r\\n\\r\\n--000000000000717478061a863d1f\\r\\nContent-Type: text/html; charset=\"UTF-8\"\\r\\nContent-Transfer-Encoding: quoted-printable\\r\\n\\r\\n<div dir=3D\"ltr\">Hi, Need a box of tissues and some hand sanitizer - any br=\\r\\nands will do.=C2=A0 Delivery by tomorrow if possible. I&#39;ll pay cash on =\\r\\ndelivery.<br><div><br></div></div>\\r\\n\\r\\n--000000000000717478061a863d1f--\\r\\n'), b')'], [(b'629 (RFC822 {5727}', b'Delivered-To: freeofcost789@gmail.com\\r\\nReceived: by 2002:adf:a30c:0:b0:35f:1c40:2693 with SMTP id c12csp694518wrb;\\r\\n        Mon, 10 Jun 2024 03:09:33 -0700 (PDT)\\r\\nX-Received: by 2002:a67:f949:0:b0:48b:beee:810d with SMTP id ada2fe7eead31-48c274adf24mr9349793137.32.1718014173046;\\r\\n        Mon, 10 Jun 2024 03:09:33 -0700 (PDT)\\r\\nARC-Seal: i=1; a=rsa-sha256; t=1718014173; cv=none;\\r\\n        d=google.com; s=arc-20160816;\\r\\n        b=jadi96Ngrcoz3EfYdt2UAwOz4kLunnukkmPeb2J9d81GhDMyIV2c+GbPSkFmUtF6Ps\\r\\n         YYq++OOxRzfUc+nUeATK2ffTaY0hwR0NV3d5wNtvVi7A8IXpBfxef/CCSCkfUkQ3C6zS\\r\\n         9LyPEmNQnQC+QUquGmuVPAlazJLaOOri04CVcrOxe4REYuVSGtlnoyrdnnzG4hJwgdzs\\r\\n         l4OAQGeDs1A47dsY7c2fzuLcBScBg3+iESDaNnpxwvk2+e5sGUUE9rE5QDF7mTlIicUW\\r\\n         SSIpBIfsP3WifxTKsjkARKD1e/NCOHEv6f9l9gorV7+E/K7/VnQ6bXlCloisUoSvxXQc\\r\\n         MOOw==\\r\\nARC-Message-Signature: i=1; a=rsa-sha256; c=relaxed/relaxed; d=google.com; s=arc-20160816;\\r\\n        h=to:subject:message-id:date:from:mime-version:dkim-signature;\\r\\n        bh=s772fFTT/BYkcxywbGIOFcKYz+QKm3wYB85siqnoi78=;\\r\\n        fh=LpQCi3xxGTFmRKfeyIq/hJVeW1dYmMLToDLEu+mVoYU=;\\r\\n        b=pS8XM+aVFYwV6V08gALbpxnKZb4WbW7qwnjg+wPEhSemCJnirFByQpa4Lib/PSOeX5\\r\\n         OB7vyoyDIPvkaQzvu9GmITn3lSRM38qXLtjZWBGKJYgm+VNtCpnmPiJCBtwzcDkkvdRr\\r\\n         pYTzP7c7aN3v9E2UOIK8aQ9GHHk2P7SzcyfjsfWtq2Ab4mXcdtRzki3gsQFBc/W+7DvP\\r\\n         BEh2NNrKgT+npC6qyXIrpM//EFEsaAkj7KBoqceaaJelrhDl796pNl998H7UfvJF5e8e\\r\\n         2ggDpsi1V2TqjfeS7F486OYSGRscnXbPmmB29XAorMfamisqwqgZXt2eIx6FIhn3m5Wd\\r\\n         nTBQ==;\\r\\n        dara=google.com\\r\\nARC-Authentication-Results: i=1; mx.google.com;\\r\\n       dkim=pass header.i=@gmail.com header.s=20230601 header.b=\"gzk2TEY/\";\\r\\n       spf=pass (google.com: domain of subhajoymukherjee2003@gmail.com designates 209.85.220.41 as permitted sender) smtp.mailfrom=subhajoymukherjee2003@gmail.com;\\r\\n       dmarc=pass (p=NONE sp=QUARANTINE dis=NONE) header.from=gmail.com\\r\\nReturn-Path: <subhajoymukherjee2003@gmail.com>\\r\\nReceived: from mail-sor-f41.google.com (mail-sor-f41.google.com. [209.85.220.41])\\r\\n        by mx.google.com with SMTPS id ada2fe7eead31-48c4016ee21sor1391338137.13.2024.06.10.03.09.32\\r\\n        for <freeofcost789@gmail.com>\\r\\n        (Google Transport Security);\\r\\n        Mon, 10 Jun 2024 03:09:33 -0700 (PDT)\\r\\nReceived-SPF: pass (google.com: domain of subhajoymukherjee2003@gmail.com designates 209.85.220.41 as permitted sender) client-ip=209.85.220.41;\\r\\nAuthentication-Results: mx.google.com;\\r\\n       dkim=pass header.i=@gmail.com header.s=20230601 header.b=\"gzk2TEY/\";\\r\\n       spf=pass (google.com: domain of subhajoymukherjee2003@gmail.com designates 209.85.220.41 as permitted sender) smtp.mailfrom=subhajoymukherjee2003@gmail.com;\\r\\n       dmarc=pass (p=NONE sp=QUARANTINE dis=NONE) header.from=gmail.com\\r\\nDKIM-Signature: v=1; a=rsa-sha256; c=relaxed/relaxed;\\r\\n        d=gmail.com; s=20230601; t=1718014172; x=1718618972; dara=google.com;\\r\\n        h=to:subject:message-id:date:from:mime-version:from:to:cc:subject\\r\\n         :date:message-id:reply-to;\\r\\n        bh=s772fFTT/BYkcxywbGIOFcKYz+QKm3wYB85siqnoi78=;\\r\\n        b=gzk2TEY/8NCvSpsMxkaCDBbEY0OIKOpPg0iWiITWC1AR6o59CSpZMoCwY/bmRm4jXc\\r\\n         XlUXpnXvWRZZDCbtubzSx18rojhTnkAbWrxT2gc9lRD/3Ge7hTzRVFpDr2xa7jvxWhiU\\r\\n         ZZAWe+GVr7ACLTgW9QSjiGrgHQuM14vrZaO/1nShbfrGqWoKvbOAtOC16jeC4e8WiB1d\\r\\n         djqN175DaRBr8V4PhUVL6HCpf2mhtJyIDD9GydjzqfyQkfzAC90PtREyEGuXhizWMucL\\r\\n         o2vLZZYxuhqX927taeSwmDfmRdezGU6FJrjT22MF6BSDSGblkrifY7SjZjjDSmW1AvV/\\r\\n         FoaQ==\\r\\nX-Google-DKIM-Signature: v=1; a=rsa-sha256; c=relaxed/relaxed;\\r\\n        d=1e100.net; s=20230601; t=1718014172; x=1718618972;\\r\\n        h=to:subject:message-id:date:from:mime-version:x-gm-message-state\\r\\n         :from:to:cc:subject:date:message-id:reply-to;\\r\\n        bh=s772fFTT/BYkcxywbGIOFcKYz+QKm3wYB85siqnoi78=;\\r\\n        b=FpTeeqGk1w5bXXu0D52EVwkChNGP62ZnSRC0pQSfILPByqLXAaHnxWGAnmNGbAy9OS\\r\\n         e+8rz/vyh7a4POwOFelbSjRQv8HHEbyKZf6+2RKReqtuW8J9+zCDN9TEv4agdhXmxhic\\r\\n         0GmM1Mr51p1PjKyZjpFU9Pkwz+IpLLPTKXl/YAZ7UDgBgLpX2pTaX8XWF4J9G2RqfOUw\\r\\n         JSO4mc3kfNZMYM2qNfOWfWfh64gt0Wqc3vwC5KJydC3B7G6NfMRs3XhUnQxMexqcT3hD\\r\\n         Ghhz4+ediCxvCHp5xf66NqE6IKoY/9HiUu1pUXFud7hFFE9DJzLpKS+PAesoFVksdTGG\\r\\n         LQWQ==\\r\\nX-Gm-Message-State: AOJu0Yyv5H9bxb8zB8BmO0cJvMxMzB+h4td82dxTz9AjxhjtDGOSrbPT\\r\\n\\t6RW/9VXbSknHDW6X6ruHLy8qogymFKbOD4kU/0zGG8CQXmqvUIJcBPbOdOVK4CAhfDwPbIJxfDk\\r\\n\\t9nIZKAs2ibFaHMAAO1Qe/YiEA2taWFT0Q2q/D\\r\\nX-Google-Smtp-Source: AGHT+IEhL3JnMufkvHeF3jHxP6ZoObVMxwUgnYr8ZrN3faJ7U0ZGcQKSljEhdURtyw0+E9hHS0+dv1VrN3pOljM3M5s=\\r\\nX-Received: by 2002:a05:6102:117c:b0:48c:4cc8:dd3f with SMTP id\\r\\n ada2fe7eead31-48c4cc8ddcdmr2932280137.1.1718014172388; Mon, 10 Jun 2024\\r\\n 03:09:32 -0700 (PDT)\\r\\nMIME-Version: 1.0\\r\\nFrom: AIML_25_Subhajoy Mukherjee <subhajoymukherjee2003@gmail.com>\\r\\nDate: Mon, 10 Jun 2024 15:39:22 +0530\\r\\nMessage-ID: <CALx4KH0iNHmDscqp0WAoszJEUaNJiH16DQ=2fLEcsMGRPUsqYA@mail.gmail.com>\\r\\nSubject: Online order List\\r\\nTo: freeofcost789@gmail.com\\r\\nContent-Type: multipart/alternative; boundary=\"00000000000076e59f061a865884\"\\r\\n\\r\\n--00000000000076e59f061a865884\\r\\nContent-Type: text/plain; charset=\"UTF-8\"\\r\\n\\r\\nHi,\\r\\n* 1kg of basmati rice\\r\\n* 500g of urad dal (black gram)\\r\\n* 250g of green moong dal (whole mung beans)\\r\\nDelivery by Sunday evening. I\\'ll pay through Netbanking when you confirm\\r\\nthe order.\\r\\n\\r\\n--00000000000076e59f061a865884\\r\\nContent-Type: text/html; charset=\"UTF-8\"\\r\\nContent-Transfer-Encoding: quoted-printable\\r\\n\\r\\n<div dir=3D\"ltr\">Hi, =C2=A0<br>* 1kg of basmati rice =C2=A0<br>* 500g of ur=\\r\\nad dal (black gram) =C2=A0<br>* 250g of green moong dal (whole mung beans) =\\r\\n=C2=A0<br>Delivery by Sunday evening. I&#39;ll pay through Netbanking when =\\r\\nyou confirm the order.<br></div>\\r\\n\\r\\n--00000000000076e59f061a865884--\\r\\n'), b')'], [(b'630 (RFC822 {5718}', b'Delivered-To: freeofcost789@gmail.com\\r\\nReceived: by 2002:adf:a30c:0:b0:35f:1c40:2693 with SMTP id c12csp694677wrb;\\r\\n        Mon, 10 Jun 2024 03:10:03 -0700 (PDT)\\r\\nX-Received: by 2002:a67:fb49:0:b0:48c:3514:2f9f with SMTP id ada2fe7eead31-48c351431cdmr6709777137.23.1718014203621;\\r\\n        Mon, 10 Jun 2024 03:10:03 -0700 (PDT)\\r\\nARC-Seal: i=1; a=rsa-sha256; t=1718014203; cv=none;\\r\\n        d=google.com; s=arc-20160816;\\r\\n        b=K4cwOtLqeXrx0oB+m6LBt4ouaQ9jo1bVhiZuQ5gcFX8juNNp36hmiSAB0SI+mt5Rxc\\r\\n         gjwFQ8n0SgCmQ34S5nWFqej8Yl8JsPM85hLgbiqOdb425EJHhpf/Tphz8XFzhoTTzOEf\\r\\n         auJMJpOr7Bw4WXk/oNRF2d1bh6AF9GtcUQ4EtjzpaB/NfzaeFtBXdOGhCy0MtMF57auI\\r\\n         XptdjVO8HW7fP6uJh6MTG3K8MrZ4rO83JV9V1oUIzjb4Qk6uRDd8iRpHd/F9Pp93RrV1\\r\\n         S1Kx+/ILXNVBAo4kfSc//dmFQlRzglGE6pctCaWznOP5bJSrYO86KD5v18ymTmMX0E18\\r\\n         D/Ag==\\r\\nARC-Message-Signature: i=1; a=rsa-sha256; c=relaxed/relaxed; d=google.com; s=arc-20160816;\\r\\n        h=to:subject:message-id:date:from:mime-version:dkim-signature;\\r\\n        bh=KfYCcTxqrDdtOashB25S7Ff8h/+yytEGbgDIuINQHEg=;\\r\\n        fh=LpQCi3xxGTFmRKfeyIq/hJVeW1dYmMLToDLEu+mVoYU=;\\r\\n        b=eqcvuTwDC3riemyJceaKpJ8vhsZb15Bstwm3AvBS/LpoXKN4oP0zSyaGh6A2wW2IZR\\r\\n         nJ+sdneoRh99QUBRQpKxAPNQ7k44nx4el8qrtxH/iYtXY/Alp95jMY+7zrvWUwmyPe4g\\r\\n         du6jyQ8nWAXI3FhFujh8zyrwmA4OgGbP5/q7UHnxIGsJIqz+hHbloqfWl5QnqrP2w5ty\\r\\n         mS7GiXuAOojsm0Cl8VAAUjpSODvUMRpMHriE3EPYKj5bplct9JJx0wFgXgCymzNgLq+x\\r\\n         xxolkKmoPmqedXkiGmyOLaS6+0uZ4vz2IzMwHs99oY35bBz1lVROBIHypeSpjXhNm0nZ\\r\\n         VOwA==;\\r\\n        dara=google.com\\r\\nARC-Authentication-Results: i=1; mx.google.com;\\r\\n       dkim=pass header.i=@gmail.com header.s=20230601 header.b=\"Fmbuj/jH\";\\r\\n       spf=pass (google.com: domain of subhajoymukherjee2003@gmail.com designates 209.85.220.41 as permitted sender) smtp.mailfrom=subhajoymukherjee2003@gmail.com;\\r\\n       dmarc=pass (p=NONE sp=QUARANTINE dis=NONE) header.from=gmail.com\\r\\nReturn-Path: <subhajoymukherjee2003@gmail.com>\\r\\nReceived: from mail-sor-f41.google.com (mail-sor-f41.google.com. [209.85.220.41])\\r\\n        by mx.google.com with SMTPS id ada2fe7eead31-48d774588a0sor232042137.3.2024.06.10.03.10.03\\r\\n        for <freeofcost789@gmail.com>\\r\\n        (Google Transport Security);\\r\\n        Mon, 10 Jun 2024 03:10:03 -0700 (PDT)\\r\\nReceived-SPF: pass (google.com: domain of subhajoymukherjee2003@gmail.com designates 209.85.220.41 as permitted sender) client-ip=209.85.220.41;\\r\\nAuthentication-Results: mx.google.com;\\r\\n       dkim=pass header.i=@gmail.com header.s=20230601 header.b=\"Fmbuj/jH\";\\r\\n       spf=pass (google.com: domain of subhajoymukherjee2003@gmail.com designates 209.85.220.41 as permitted sender) smtp.mailfrom=subhajoymukherjee2003@gmail.com;\\r\\n       dmarc=pass (p=NONE sp=QUARANTINE dis=NONE) header.from=gmail.com\\r\\nDKIM-Signature: v=1; a=rsa-sha256; c=relaxed/relaxed;\\r\\n        d=gmail.com; s=20230601; t=1718014203; x=1718619003; dara=google.com;\\r\\n        h=to:subject:message-id:date:from:mime-version:from:to:cc:subject\\r\\n         :date:message-id:reply-to;\\r\\n        bh=KfYCcTxqrDdtOashB25S7Ff8h/+yytEGbgDIuINQHEg=;\\r\\n        b=Fmbuj/jHaJqvzVL3KCjRln9POIT6+rhKllsQpAYUyIH7g0nmyWnoJfVWjszTRiWGke\\r\\n         5n2Ht8z8AqlEKRWBMQE9F+aPvbn/Zzwk3Jb1rmgxSuNccqSv4iPTbWUPeyj3SpPLTH8O\\r\\n         Onf3Zxcupvz//qesbg1bteFSFjrRyYU4UMzB/Y2Adwk81GQK73EnhBC5sSPO2rO+J1Cq\\r\\n         AaRsiGr3zxRFXe2KBscT4lm2buQWt8osyaig3Q2VjG/iE3WJqRbynjzizxWbEYhMqBsJ\\r\\n         aGTRLZ5k9QDcACbIF0rgk6CDiaNGN702aLL8Wdo9HXn48rNGXAXH0UBNZZ31lD0618aN\\r\\n         27fQ==\\r\\nX-Google-DKIM-Signature: v=1; a=rsa-sha256; c=relaxed/relaxed;\\r\\n        d=1e100.net; s=20230601; t=1718014203; x=1718619003;\\r\\n        h=to:subject:message-id:date:from:mime-version:x-gm-message-state\\r\\n         :from:to:cc:subject:date:message-id:reply-to;\\r\\n        bh=KfYCcTxqrDdtOashB25S7Ff8h/+yytEGbgDIuINQHEg=;\\r\\n        b=rmsBYW0tql2T32W/Uuf2bQtPL5fbi0wHcG9zCzb8UG+At4Vmqzt6+5SRTs/I68TYMz\\r\\n         Qnre0HvPWq5wfCdJl8emeMHWhMh/e8/HQtzzOpv+iuyKIYzYePmjSSTKAKOeWmrUWxJM\\r\\n         1TpboH5ZDq3vegtrbR1LoBXJvzvHgB31QE7H7uxXbgUvy+6DtKo0sPcsz5kfcmChz841\\r\\n         nonJFUBsfFxcpQ+kUXfYKiGs4tIZDAJHBGUAI4nxVaFq7bKTRe/E4+Qt5lhesgqgzdYE\\r\\n         binZo3+nPQUF7Nl7uyo8j/vblLNxwkVI7fE5gbeKNP05ACEXR6ymySyJsredFsU0B6Ev\\r\\n         saCw==\\r\\nX-Gm-Message-State: AOJu0YxylDxl1V++Q+jihYf1IBv19G55qcPDFq8Zvp/HGKbyoUZ7kpb7\\r\\n\\tEaEcPj2DIt4V29sVAr9b6VOI45bR3mJ0ehn1f1defyx2Wb7hVUsYUzWrTes36okwn1AZRd2Tlj9\\r\\n\\tHycSGZZCrDOa8mPlpLSjpSl8sKeVd4XajEY19\\r\\nX-Google-Smtp-Source: AGHT+IHeEMNCxsOkDs8R7jV3vS0o+EDZGJZK73c5+gollGDclmQ60CGkwQDzHGhoG4aaFGynP/OEPJWkzLzDji9EV4k=\\r\\nX-Received: by 2002:a67:b60d:0:b0:48c:4361:8a68 with SMTP id\\r\\n ada2fe7eead31-48c43618f36mr4302674137.9.1718014203010; Mon, 10 Jun 2024\\r\\n 03:10:03 -0700 (PDT)\\r\\nMIME-Version: 1.0\\r\\nFrom: AIML_25_Subhajoy Mukherjee <subhajoymukherjee2003@gmail.com>\\r\\nDate: Mon, 10 Jun 2024 15:39:53 +0530\\r\\nMessage-ID: <CALx4KH0uWQx-UvS+Y5zX9ZftRwSjNHQSJOke3WT+P9WfYMtrjQ@mail.gmail.com>\\r\\nSubject: Order List\\r\\nTo: freeofcost789@gmail.com\\r\\nContent-Type: multipart/alternative; boundary=\"0000000000004a2824061a865a35\"\\r\\n\\r\\n--0000000000004a2824061a865a35\\r\\nContent-Type: text/plain; charset=\"UTF-8\"\\r\\n\\r\\nHi,\\r\\n* 3kg of apples\\r\\n* 2kg of oranges\\r\\n* 1kg of bananas\\r\\nLooking for fresh fruits for a fruit salad!  Delivery by tomorrow afternoon\\r\\nif possible. I\\'ve already done the payment through UPI.\\r\\n\\r\\n--0000000000004a2824061a865a35\\r\\nContent-Type: text/html; charset=\"UTF-8\"\\r\\nContent-Transfer-Encoding: quoted-printable\\r\\n\\r\\n<div dir=3D\"ltr\">Hi, =C2=A0<br>* 3kg of apples =C2=A0<br>* 2kg of oranges =\\r\\n=C2=A0<br>* 1kg of bananas =C2=A0<br>Looking for fresh fruits for a fruit s=\\r\\nalad!=C2=A0 Delivery by tomorrow afternoon if possible. I&#39;ve already do=\\r\\nne the payment through UPI.<br></div>\\r\\n\\r\\n--0000000000004a2824061a865a35--\\r\\n'), b')'], [(b'631 (RFC822 {5457}', b'Delivered-To: freeofcost789@gmail.com\\r\\nReceived: by 2002:adf:a30c:0:b0:35f:1c40:2693 with SMTP id c12csp694916wrb;\\r\\n        Mon, 10 Jun 2024 03:10:51 -0700 (PDT)\\r\\nX-Received: by 2002:a05:6102:11eb:b0:48d:7b50:3f2e with SMTP id ada2fe7eead31-48d7b504296mr418240137.32.1718014251466;\\r\\n        Mon, 10 Jun 2024 03:10:51 -0700 (PDT)\\r\\nARC-Seal: i=1; a=rsa-sha256; t=1718014251; cv=none;\\r\\n        d=google.com; s=arc-20160816;\\r\\n        b=RkZACeH87gN6G6EnBVQIhq3NFUk0IRDA7GMEwu+5cjqkR/BNeU3acWOenikg7ceZg3\\r\\n         1xW1cydivJypYf5hyhyMOtHc41ZlZlyDizo7u/CRib3KBO5srMFsnCJWyibfshTE5ECr\\r\\n         UpO5H5nWu9C3rp30Nogmnh8QCI7lNL4+NoiMMvkFicYQirsEoFZgD+e/t4BAJuK5p8Cj\\r\\n         /nAs2enixllcZlO2FuxyU5F48PJ99B1g4FvKrg/oCSkiDj9zxa+XWGWNyU5WmxLsvqOX\\r\\n         dyyHI2EB0XSTumcMZ+be1n2EbXkuB5MiS2Kf/4Xms0/WtjyNoZkOuk85HZI7nk3pQEVr\\r\\n         pg4g==\\r\\nARC-Message-Signature: i=1; a=rsa-sha256; c=relaxed/relaxed; d=google.com; s=arc-20160816;\\r\\n        h=to:subject:message-id:date:from:mime-version:dkim-signature;\\r\\n        bh=Qzq6uBXWMS75IrpfzhD3rRo4XhHfgAu0g13YNl8dabo=;\\r\\n        fh=LpQCi3xxGTFmRKfeyIq/hJVeW1dYmMLToDLEu+mVoYU=;\\r\\n        b=guXirwNnLEttbDUVOy9j7Baqk1KvFisAKhBgunaYkKJRnj9F034AMIlFkVucmQNJGZ\\r\\n         RwTAqzgvfNUAn8huEEr+ncXALp3YlXDraKZ/a+nUHVThrZUfM1GTQcnrfC4E6L8PRoUT\\r\\n         tavJw6r3+OS3ViuTNzw8uFIBmyiS0pDkMTSl4dn0/2t9vuLV8O84avrRBx/inkQvVL9k\\r\\n         K3xg2a+JORVYUABlz0seM+YXR7qHANpHSvHOxkR3rZqERqPIeOh3UqdDYHohyWmP5PP5\\r\\n         u2cKFD5DB5AfZpfioaBJ/PV4DqYWx1eMlCKndeda/eCKv9FqOGyq1nZsgGwlB99uZxNG\\r\\n         mcMA==;\\r\\n        dara=google.com\\r\\nARC-Authentication-Results: i=1; mx.google.com;\\r\\n       dkim=pass header.i=@gmail.com header.s=20230601 header.b=NJXKo7VS;\\r\\n       spf=pass (google.com: domain of subhajoymukherjee2003@gmail.com designates 209.85.220.41 as permitted sender) smtp.mailfrom=subhajoymukherjee2003@gmail.com;\\r\\n       dmarc=pass (p=NONE sp=QUARANTINE dis=NONE) header.from=gmail.com\\r\\nReturn-Path: <subhajoymukherjee2003@gmail.com>\\r\\nReceived: from mail-sor-f41.google.com (mail-sor-f41.google.com. [209.85.220.41])\\r\\n        by mx.google.com with SMTPS id ada2fe7eead31-48c19cd0822sor3232351137.0.2024.06.10.03.10.51\\r\\n        for <freeofcost789@gmail.com>\\r\\n        (Google Transport Security);\\r\\n        Mon, 10 Jun 2024 03:10:51 -0700 (PDT)\\r\\nReceived-SPF: pass (google.com: domain of subhajoymukherjee2003@gmail.com designates 209.85.220.41 as permitted sender) client-ip=209.85.220.41;\\r\\nAuthentication-Results: mx.google.com;\\r\\n       dkim=pass header.i=@gmail.com header.s=20230601 header.b=NJXKo7VS;\\r\\n       spf=pass (google.com: domain of subhajoymukherjee2003@gmail.com designates 209.85.220.41 as permitted sender) smtp.mailfrom=subhajoymukherjee2003@gmail.com;\\r\\n       dmarc=pass (p=NONE sp=QUARANTINE dis=NONE) header.from=gmail.com\\r\\nDKIM-Signature: v=1; a=rsa-sha256; c=relaxed/relaxed;\\r\\n        d=gmail.com; s=20230601; t=1718014251; x=1718619051; dara=google.com;\\r\\n        h=to:subject:message-id:date:from:mime-version:from:to:cc:subject\\r\\n         :date:message-id:reply-to;\\r\\n        bh=Qzq6uBXWMS75IrpfzhD3rRo4XhHfgAu0g13YNl8dabo=;\\r\\n        b=NJXKo7VSK7MrjrIhDctToDS6Wjop4G4D0FjWb/HPV1aCHkL3LAuDSVQ8jKHPlKsTp6\\r\\n         xTizIWyLBrw/jU0UQ5zsOPFc8AQusoryXa2nz+5y3k9aoxenVGx5oWRNEjNRDumGrClb\\r\\n         h4CLzmG6t9CWhyCAm582roBBeTrm3C60OULV97vYptsZhlUkRVMCj40/cmshsc1vXLdS\\r\\n         wx+P4kw4+81SjbUP3wukcAYkNCFaddPFhXYigsVVfjq490KbKX5IHjHROFgZQcTPM4N+\\r\\n         khyioyFJx5vqnz89py5B01EOaJ/oVFO5Zj1Z2/ptw5E0Cw/Hi8fWIgv/H+Lzz7Dmoasw\\r\\n         Thvw==\\r\\nX-Google-DKIM-Signature: v=1; a=rsa-sha256; c=relaxed/relaxed;\\r\\n        d=1e100.net; s=20230601; t=1718014251; x=1718619051;\\r\\n        h=to:subject:message-id:date:from:mime-version:x-gm-message-state\\r\\n         :from:to:cc:subject:date:message-id:reply-to;\\r\\n        bh=Qzq6uBXWMS75IrpfzhD3rRo4XhHfgAu0g13YNl8dabo=;\\r\\n        b=BSufz9ZUibTHW0fIhKY5OgCARxqfBoffCf0cG1KgYWjI9XcqzgLxq4/SHe2ucZBDKQ\\r\\n         OD/njGzYYnuY+tovw7NazDtmeDJOstPeYtQRlJBjcXUu++W7FMqIXGZdBRkfQqyk9Kyg\\r\\n         riS+3gWuPGv4A23o/yHwMKjjZj3ELRuycEgYeeBk0rHjpji49G5LxRZEJjNOmvDc0rGg\\r\\n         rSFaTplDUtfrwerokdBTegLsWaEDmd9AgsFXQMUxWe/XAUA9tlU6XAwWulfwKbYkJpsl\\r\\n         Me85wzNmI2bi4K73kAU4q/rtJK7R2SOvQ0055DNJuWUrc2I8/ccF0ptRoz/EyNLiQ0jW\\r\\n         JOLg==\\r\\nX-Gm-Message-State: AOJu0YzEo8oxxeyp26mZk1G3WkVFOsvsyOUwFvVicQ1RYYSGujfZko1Y\\r\\n\\tSifGVSo5bXL1y8S6S6MUpTVV9D7aacxdMgHijEB+H3XG8BsoH5urNXtqm3840Lh54wablHwfIjU\\r\\n\\t08zcBqpIQXnK4epu+77ATro7tuRTrx8rgz0+X\\r\\nX-Google-Smtp-Source: AGHT+IGCXQh4sXBGhZcgieMrzPURuOnS7eIauNx4mZuvkks4tcUmNHoHMf2yjtNfKvnxasEyDSHtvkMxQbHNkp6MEkQ=\\r\\nX-Received: by 2002:a05:6102:2913:b0:48c:4c7a:a78d with SMTP id\\r\\n ada2fe7eead31-48c4c7ae643mr4350725137.27.1718014250880; Mon, 10 Jun 2024\\r\\n 03:10:50 -0700 (PDT)\\r\\nMIME-Version: 1.0\\r\\nFrom: AIML_25_Subhajoy Mukherjee <subhajoymukherjee2003@gmail.com>\\r\\nDate: Mon, 10 Jun 2024 15:40:40 +0530\\r\\nMessage-ID: <CALx4KH0wV394eAXtUv=MDRY9WgWgrETowPGyx0M2BZev=eCQuA@mail.gmail.com>\\r\\nSubject: Order list\\r\\nTo: freeofcost789@gmail.com\\r\\nContent-Type: multipart/alternative; boundary=\"0000000000002494ec061a865d66\"\\r\\n\\r\\n--0000000000002494ec061a865d66\\r\\nContent-Type: text/plain; charset=\"UTF-8\"\\r\\n\\r\\nHello,\\r\\nNeed\\r\\n* 2 dozen eggs\\r\\n* 1L carton of milk (full cream)\\r\\n.\\r\\n\\r\\n--0000000000002494ec061a865d66\\r\\nContent-Type: text/html; charset=\"UTF-8\"\\r\\nContent-Transfer-Encoding: quoted-printable\\r\\n\\r\\n<div dir=3D\"ltr\">Hello, =C2=A0<br>Need =C2=A0<br>* 2 dozen eggs =C2=A0<br>*=\\r\\n 1L carton of milk (full cream) =C2=A0<br>.<br></div>\\r\\n\\r\\n--0000000000002494ec061a865d66--\\r\\n'), b')'], [(b'632 (RFC822 {5641}', b'Delivered-To: freeofcost789@gmail.com\\r\\nReceived: by 2002:adf:a30c:0:b0:35f:1c40:2693 with SMTP id c12csp695264wrb;\\r\\n        Mon, 10 Jun 2024 03:12:03 -0700 (PDT)\\r\\nX-Received: by 2002:a67:f054:0:b0:48c:3941:6689 with SMTP id ada2fe7eead31-48c39416881mr6345942137.23.1718014323243;\\r\\n        Mon, 10 Jun 2024 03:12:03 -0700 (PDT)\\r\\nARC-Seal: i=1; a=rsa-sha256; t=1718014323; cv=none;\\r\\n        d=google.com; s=arc-20160816;\\r\\n        b=eMyJvQWU4A/e0XP52mwEPFlXkQ7Pvw451t9rZj+VCbz0B0Hg/QBG/Y1LhD4u1X3Hw5\\r\\n         4LNTN4y+8oKJ0cUr8ywj8Xl6icDvmXeStuwecazh5wUVg3lYyxPajAyPqumRZZmh1HcM\\r\\n         TVTJyIq753N6NaYaokZN93mX4hOZTtN5pXe0RUm4Lfz5xvzqG9+XuwyHvdfzdNX37BZc\\r\\n         +s2h+RqMXos0jQKB2C2Z5QoeJglhJCDHaGSU41Y70UaY3TW7pnEmA5a5+3l6/R0lR32y\\r\\n         siuUtEBuV45u5xz33TMojylLUTX2+vRN4pqNP9tyB6//jvcLV9rDQWNZGldsuAMdy7zT\\r\\n         OmKA==\\r\\nARC-Message-Signature: i=1; a=rsa-sha256; c=relaxed/relaxed; d=google.com; s=arc-20160816;\\r\\n        h=to:subject:message-id:date:from:mime-version:dkim-signature;\\r\\n        bh=Yg9VGhtlPjfs7eNJ3UyMqJouWw5mC2nsINBHj7kXv0M=;\\r\\n        fh=LpQCi3xxGTFmRKfeyIq/hJVeW1dYmMLToDLEu+mVoYU=;\\r\\n        b=hju0bXWtGqZ+O+NRPtcOMMp6xuykhLFMHUSEY3qKOBPaM4kfDiM1nd7oeyMYK8Uk/4\\r\\n         NBBaVhl8VFNxDN45mIGMN1diijuWNrBGg+sJvS7UyiAK0Q2Keiz5YDBpl9qjRHEd4uAX\\r\\n         4Mx53lzx8+zJgwwXSRcF3PUP0GkQwp1mtlovJz+LsQTCfVqdZieb6Ey7b5gGB2IP3Glq\\r\\n         zZ1yUTPBHYvFP594X53Os/YmH/V379MlWDepMBvk/L2XlxDlIqCbkN9Lgh/7YQDw3vr8\\r\\n         GwRXp9M02SARiI29uVFaJQ5I7Fwpy1jDsNSbdEmqynk9gyKQYE4TFumIOe1tTNkNE6Ul\\r\\n         BLQA==;\\r\\n        dara=google.com\\r\\nARC-Authentication-Results: i=1; mx.google.com;\\r\\n       dkim=pass header.i=@gmail.com header.s=20230601 header.b=YaKJc23u;\\r\\n       spf=pass (google.com: domain of subhajoymukherjee2003@gmail.com designates 209.85.220.41 as permitted sender) smtp.mailfrom=subhajoymukherjee2003@gmail.com;\\r\\n       dmarc=pass (p=NONE sp=QUARANTINE dis=NONE) header.from=gmail.com\\r\\nReturn-Path: <subhajoymukherjee2003@gmail.com>\\r\\nReceived: from mail-sor-f41.google.com (mail-sor-f41.google.com. [209.85.220.41])\\r\\n        by mx.google.com with SMTPS id ada2fe7eead31-48c368024d4sor1919277137.4.2024.06.10.03.12.03\\r\\n        for <freeofcost789@gmail.com>\\r\\n        (Google Transport Security);\\r\\n        Mon, 10 Jun 2024 03:12:03 -0700 (PDT)\\r\\nReceived-SPF: pass (google.com: domain of subhajoymukherjee2003@gmail.com designates 209.85.220.41 as permitted sender) client-ip=209.85.220.41;\\r\\nAuthentication-Results: mx.google.com;\\r\\n       dkim=pass header.i=@gmail.com header.s=20230601 header.b=YaKJc23u;\\r\\n       spf=pass (google.com: domain of subhajoymukherjee2003@gmail.com designates 209.85.220.41 as permitted sender) smtp.mailfrom=subhajoymukherjee2003@gmail.com;\\r\\n       dmarc=pass (p=NONE sp=QUARANTINE dis=NONE) header.from=gmail.com\\r\\nDKIM-Signature: v=1; a=rsa-sha256; c=relaxed/relaxed;\\r\\n        d=gmail.com; s=20230601; t=1718014322; x=1718619122; dara=google.com;\\r\\n        h=to:subject:message-id:date:from:mime-version:from:to:cc:subject\\r\\n         :date:message-id:reply-to;\\r\\n        bh=Yg9VGhtlPjfs7eNJ3UyMqJouWw5mC2nsINBHj7kXv0M=;\\r\\n        b=YaKJc23upfuSRT5YWD2jqkKqFhcBD2ML2HRkojzYfA968zOIlvJwSfV3e0k5UpA8qs\\r\\n         POp/0/i1/i3O+s+B7swjFg7XZbR/WhyA0zuIiZpdEURWPBvzH1yxgEU+2KRRYRWyJodf\\r\\n         GfIrX544yLNH2sSQeAJV4sF3eMt2SScm7Gz6RmJzc6KUCEKfNWSI9abbpEgFaeuaT0ys\\r\\n         8ev2Ma4Je+7K5sIZvx2L1vQylMVmu4DfKyXfztK4DB3Zf47ctPfVI/oP+niLwlQhgGWN\\r\\n         AcgsVbsmIwv3A+11lhq3OsL4PSpDJf+dv+ALxJ5w59DjmtMK7n9Dq5lU48z47a70J4et\\r\\n         RKgg==\\r\\nX-Google-DKIM-Signature: v=1; a=rsa-sha256; c=relaxed/relaxed;\\r\\n        d=1e100.net; s=20230601; t=1718014323; x=1718619123;\\r\\n        h=to:subject:message-id:date:from:mime-version:x-gm-message-state\\r\\n         :from:to:cc:subject:date:message-id:reply-to;\\r\\n        bh=Yg9VGhtlPjfs7eNJ3UyMqJouWw5mC2nsINBHj7kXv0M=;\\r\\n        b=eiKI0X69iUpL7ADBgKkXWcYYd1I5lYRKCp8KZDPtYnIAGe+lmg9dsCjdOrfcOCDgVC\\r\\n         ezru3lzZ9n9DK2ABab+0EtlbpePbi37qzswLIr/PPlApZOjgVmIwrk/lv2LtUf1N3b9f\\r\\n         EFU83SIVq6NtN6muZwqUBYS2DsYXytJpa7rxOExFxcuA5KrP0qAXmzILeuoh9iws7NMF\\r\\n         wHwlQJEJGldnBPLxDIfKArK2POWeNj3um46TYlaZm6U/N1y9R54nnSsDoIWdnxlWIRCy\\r\\n         b0O5y/iExVrpdyQ27lBLugvIGPTT18mhhrztdEwvdrEs6N6/IxO3xh/5B1cqS0p2lG9q\\r\\n         ToZA==\\r\\nX-Gm-Message-State: AOJu0Yx9HzbT8pby4EsftW+7XO/AVwtMYgUqJ/x4ef8Fng++HcE1VlE1\\r\\n\\tVCV4j2yvU69T/50KfvXwAcwnT16/olbcxna0oG81iKtd6D3vvcCWjxeafkSdlP17mukhyvfvP81\\r\\n\\tgY89l77zgBtvkFL/YfJSbqBj3w3lJ/dFk5xdT\\r\\nX-Google-Smtp-Source: AGHT+IFveWqOoVu/CxnPjtMHVqUUsRCgFaBy4nz+P0BqErisUCbXR0AEpiZDXkV1chvjBxjPT6kRohF3b9N9fzx4ovY=\\r\\nX-Received: by 2002:a67:fd53:0:b0:48c:3c3a:55a4 with SMTP id\\r\\n ada2fe7eead31-48c3c3a578cmr4710899137.35.1718014322607; Mon, 10 Jun 2024\\r\\n 03:12:02 -0700 (PDT)\\r\\nMIME-Version: 1.0\\r\\nFrom: AIML_25_Subhajoy Mukherjee <subhajoymukherjee2003@gmail.com>\\r\\nDate: Mon, 10 Jun 2024 15:41:52 +0530\\r\\nMessage-ID: <CALx4KH1sUdPMoRHS4fpgy_At=YWY+fYZkPNBnv-wUpVJygYmew@mail.gmail.com>\\r\\nSubject: Order List\\r\\nTo: freeofcost789@gmail.com\\r\\nContent-Type: multipart/alternative; boundary=\"0000000000006b0ff2061a866119\"\\r\\n\\r\\n--0000000000006b0ff2061a866119\\r\\nContent-Type: text/plain; charset=\"UTF-8\"\\r\\n\\r\\nLarge order for a party!\\r\\n* 5 packets of chips (any brand)\\r\\n* 3 packets of cookies (any brand)\\r\\n* 2L bottle of juice (any brand)\\r\\nDelivery by tomorrow afternoon\\r\\n\\r\\n--0000000000006b0ff2061a866119\\r\\nContent-Type: text/html; charset=\"UTF-8\"\\r\\nContent-Transfer-Encoding: quoted-printable\\r\\n\\r\\n<div dir=3D\"ltr\">Large order for a party! =C2=A0<br>* 5 packets of chips (a=\\r\\nny brand) =C2=A0<br>* 3 packets of cookies (any brand) =C2=A0<br>* 2L bottl=\\r\\ne of juice (any brand) =C2=A0<br>Delivery by tomorrow afternoon</div>\\r\\n\\r\\n--0000000000006b0ff2061a866119--\\r\\n'), b')'], [(b'633 (RFC822 {5447}', b'Delivered-To: freeofcost789@gmail.com\\r\\nReceived: by 2002:adf:a30c:0:b0:35f:1c40:2693 with SMTP id c12csp695393wrb;\\r\\n        Mon, 10 Jun 2024 03:12:33 -0700 (PDT)\\r\\nX-Received: by 2002:a67:eb0b:0:b0:48d:7144:50db with SMTP id ada2fe7eead31-48d71445623mr1667639137.25.1718014353079;\\r\\n        Mon, 10 Jun 2024 03:12:33 -0700 (PDT)\\r\\nARC-Seal: i=1; a=rsa-sha256; t=1718014353; cv=none;\\r\\n        d=google.com; s=arc-20160816;\\r\\n        b=tqdyflUGdXaP6ZIP9S3Rsiw7gZAsH4J7GSOy4ewibBPsRYcMwNCRMlvwOtEscCNSse\\r\\n         AqjKisnkeZ1UV1nJ0XS4TKzIEohT2Wynk5cIU6uj+XlaZaTO1eNTxrkOVMruFUmujkBe\\r\\n         pe7C6Fx71r8vB8vSj7EBIsfEYC23oQxxmfETcOEW89e0HHSk/M+yHEKmBRrJq5BOz/kn\\r\\n         n5jqBsEppIKHhbMAqsYXqShKx4y+tPbZDmmIVXWonSQYYNXyd8PaUcH5H9o9xXiDIhMv\\r\\n         QyJobs2qR+fGGH3cszqqXgBcZcjcLuoqCGhacDafjkF7SNB6kz/veoWxcZkp5Ezqo6Te\\r\\n         4QUg==\\r\\nARC-Message-Signature: i=1; a=rsa-sha256; c=relaxed/relaxed; d=google.com; s=arc-20160816;\\r\\n        h=to:subject:message-id:date:from:mime-version:dkim-signature;\\r\\n        bh=w9tC3XYQKBNtLUMa0LKRYWRmhujLTN2DkpSSN6xGSZg=;\\r\\n        fh=LpQCi3xxGTFmRKfeyIq/hJVeW1dYmMLToDLEu+mVoYU=;\\r\\n        b=0qmm8ITprIhJ9KlVMe/yRFbFIlO0wAuNrflYIGk1uitwVw6WDxEyZJjnOFUyEIRsfu\\r\\n         JTr59fl7RG6rKQZ8VJmTcRwz1Je8RvGM92BFvNB1qxq0OgAEWqy80JQwkFVGnKlvCvp0\\r\\n         YBMPjDQFtkVOQBO8OqZOBTXwTS1/27i8seQ6v1VTdcAyvggejVTF61rKrzCURQ91BbXc\\r\\n         ryntv6d6BpFi5e8M0XMdjrecKJvzXOhKGblkFBzWgULsZFtBgDNNk4+sVuuAWppGLD5m\\r\\n         L0c3krg3JyH9TXuMduvHwq6xHW8iNA7KXofMThNSWkhlCbfQ1iePwqG6Yr0vwaxW3ww3\\r\\n         Lbdw==;\\r\\n        dara=google.com\\r\\nARC-Authentication-Results: i=1; mx.google.com;\\r\\n       dkim=pass header.i=@gmail.com header.s=20230601 header.b=VBbOhH2F;\\r\\n       spf=pass (google.com: domain of subhajoymukherjee2003@gmail.com designates 209.85.220.41 as permitted sender) smtp.mailfrom=subhajoymukherjee2003@gmail.com;\\r\\n       dmarc=pass (p=NONE sp=QUARANTINE dis=NONE) header.from=gmail.com\\r\\nReturn-Path: <subhajoymukherjee2003@gmail.com>\\r\\nReceived: from mail-sor-f41.google.com (mail-sor-f41.google.com. [209.85.220.41])\\r\\n        by mx.google.com with SMTPS id ada2fe7eead31-48c2ef64594sor1235327137.6.2024.06.10.03.12.32\\r\\n        for <freeofcost789@gmail.com>\\r\\n        (Google Transport Security);\\r\\n        Mon, 10 Jun 2024 03:12:33 -0700 (PDT)\\r\\nReceived-SPF: pass (google.com: domain of subhajoymukherjee2003@gmail.com designates 209.85.220.41 as permitted sender) client-ip=209.85.220.41;\\r\\nAuthentication-Results: mx.google.com;\\r\\n       dkim=pass header.i=@gmail.com header.s=20230601 header.b=VBbOhH2F;\\r\\n       spf=pass (google.com: domain of subhajoymukherjee2003@gmail.com designates 209.85.220.41 as permitted sender) smtp.mailfrom=subhajoymukherjee2003@gmail.com;\\r\\n       dmarc=pass (p=NONE sp=QUARANTINE dis=NONE) header.from=gmail.com\\r\\nDKIM-Signature: v=1; a=rsa-sha256; c=relaxed/relaxed;\\r\\n        d=gmail.com; s=20230601; t=1718014352; x=1718619152; dara=google.com;\\r\\n        h=to:subject:message-id:date:from:mime-version:from:to:cc:subject\\r\\n         :date:message-id:reply-to;\\r\\n        bh=w9tC3XYQKBNtLUMa0LKRYWRmhujLTN2DkpSSN6xGSZg=;\\r\\n        b=VBbOhH2FhUq1yxTVnAV/twMEF72eDyQzVpz1E+O4t6WGU0yhYq2nJjtuizGEOejIk6\\r\\n         igAQhfGXrLN0AxcrNsQ0u8pG7IxOh/jpcfA+NNRhfeCy4rQ63RyVPFyGia5q7tcdiz4Z\\r\\n         cb18BOXK9tQ6vkpV38KgXtMWfOhwT01j1gZ+vtq9s8KUoyT2DGXrlFR0cWS0iRkH3fdy\\r\\n         2CldJWJ8yFVsDna2bdNcyyMuTMuCYD+USTBsMslO/Wp/4nAgWd0Xh9FXsGa8au+VAdBP\\r\\n         WICUP5tf0l2K8oSvmeaeDrtJFXThxc69PRmIEocr5y/sfNq+FnG8n7s7DDn68aiO1err\\r\\n         iodA==\\r\\nX-Google-DKIM-Signature: v=1; a=rsa-sha256; c=relaxed/relaxed;\\r\\n        d=1e100.net; s=20230601; t=1718014352; x=1718619152;\\r\\n        h=to:subject:message-id:date:from:mime-version:x-gm-message-state\\r\\n         :from:to:cc:subject:date:message-id:reply-to;\\r\\n        bh=w9tC3XYQKBNtLUMa0LKRYWRmhujLTN2DkpSSN6xGSZg=;\\r\\n        b=H1Ou3I/LjtXNPmlVaRGjr1MvS3ieJ2aOwDSdfUBC5WGUeTeEjLtOVnvr6t4J+KZ+42\\r\\n         3EnfXyW2nhqSoInBtVt2VB3MW3zr+T4XSFYsD1bqxXKM3yIv1ISIJWRhGInam8KfK667\\r\\n         QpxagjD+4kG4GXFscqX3O5KDVxwpZzDppp8QYTo+TX3pUfIC7tWGuAo1Jfd70iazmiz6\\r\\n         7EL8rIoEZNVdYvBPLmutHxBM6Hn1u7PcA287TF1JTYHQAX1MjDWi1tkGWEjm3OKbyGsv\\r\\n         IGK1pHxaDucopJU26N+fUugA2yefOaQfdZCcL09Yvu5Q/oi3ePByQ52Equm3BscMUzsn\\r\\n         EWVA==\\r\\nX-Gm-Message-State: AOJu0YzDvYng5Mf0bthDO6EX5P6QxE37FG4mtGwTurpQTAIbwWiTlDOw\\r\\n\\t2Z1VdpskUWu68XKNxZUTguQL8lU+IIfNM/7UJ6ufoIP5HEVrLc8v2KDDRPkqevJf/gUtAHU7VWt\\r\\n\\tSp5jcmZGnaO9yQbaUTWsEUQn1G3zp5/dBSATL\\r\\nX-Google-Smtp-Source: AGHT+IHVRR3zg9bRu/VfJ48/PWN+jQehkB4S8rBDGNiK/z8PSZnFi2+YrntgwSbNkyfoLZhkBkBxq4f3UvWD+4hQHpo=\\r\\nX-Received: by 2002:a67:e3b1:0:b0:48c:4723:65b2 with SMTP id\\r\\n ada2fe7eead31-48c472366d4mr3184681137.1.1718014352415; Mon, 10 Jun 2024\\r\\n 03:12:32 -0700 (PDT)\\r\\nMIME-Version: 1.0\\r\\nFrom: AIML_25_Subhajoy Mukherjee <subhajoymukherjee2003@gmail.com>\\r\\nDate: Mon, 10 Jun 2024 15:42:22 +0530\\r\\nMessage-ID: <CALx4KH1o7zj9WSjFA5cFY0sCgG8P9DGbs+NJU_cAZGxMk30fxw@mail.gmail.com>\\r\\nSubject: Online Order\\r\\nTo: freeofcost789@gmail.com\\r\\nContent-Type: multipart/alternative; boundary=\"00000000000031e3b2061a8663ef\"\\r\\n\\r\\n--00000000000031e3b2061a8663ef\\r\\nContent-Type: text/plain; charset=\"UTF-8\"\\r\\n\\r\\nHi,\\r\\n* 2kg of potatoes\\r\\n* 1kg of onions\\r\\n* 1kg of cauliflower\\r\\n\\r\\n--00000000000031e3b2061a8663ef\\r\\nContent-Type: text/html; charset=\"UTF-8\"\\r\\nContent-Transfer-Encoding: quoted-printable\\r\\n\\r\\n<div dir=3D\"ltr\">Hi, =C2=A0<br>* 2kg of potatoes =C2=A0<br>* 1kg of onions =\\r\\n=C2=A0<br>* 1kg of cauliflower =C2=A0<br><br></div>\\r\\n\\r\\n--00000000000031e3b2061a8663ef--\\r\\n'), b')']]\n",
            "<class 'list'>\n",
            "[(b'626 (RFC822 {5529}', b'Delivered-To: freeofcost789@gmail.com\\r\\nReceived: by 2002:adf:a30c:0:b0:35f:1c40:2693 with SMTP id c12csp691251wrb;\\r\\n        Mon, 10 Jun 2024 03:01:24 -0700 (PDT)\\r\\nX-Received: by 2002:a67:f1cc:0:b0:48c:4213:93ff with SMTP id ada2fe7eead31-48c42139690mr4962786137.25.1718013684499;\\r\\n        Mon, 10 Jun 2024 03:01:24 -0700 (PDT)\\r\\nARC-Seal: i=1; a=rsa-sha256; t=1718013684; cv=none;\\r\\n        d=google.com; s=arc-20160816;\\r\\n        b=nX+rpdasoQI2DNOR/BJIQe868looB5oh1EZPhml2DiMPbiS85j6sE4ZMJbmWTOr205\\r\\n         iE60g5rN/+bnmvqH+A01L1FLZupS1ubG/5CvtaAn/U1P4BHGm1MozkJokniZbhh6+Wh4\\r\\n         3VPIFyGg4AAiq9nDazeqzQUp7FHBB1saUcLTl38XGhlpqs6HRJ1FWz+sf1083UuTP7qi\\r\\n         f2QfqHxn5Mhc48c5QTUt5Ywy20vMwVlFB3vVeA2nwwBShn4ck7neOp9aLcpvN45mpi/Q\\r\\n         lTVtrpD4OsxuQ/GEr/6Ue5SJFBEoex8D77RR1p0/HhUcofvRK2KPti842pQYiHQIW/F1\\r\\n         c5QA==\\r\\nARC-Message-Signature: i=1; a=rsa-sha256; c=relaxed/relaxed; d=google.com; s=arc-20160816;\\r\\n        h=to:subject:message-id:date:from:mime-version:dkim-signature;\\r\\n        bh=Kcemz9dh4loM7CRac7HEttFEtrdk4XCiOoU/3AHyS40=;\\r\\n        fh=LpQCi3xxGTFmRKfeyIq/hJVeW1dYmMLToDLEu+mVoYU=;\\r\\n        b=hFSZykWG3FLfMz/7SuJG9tatDB5oL7IYCcG9GDbHNuKcGjfePTxcENsq5UZtrUR404\\r\\n         aLJP3I3ykYvRb/iK4KzwaiddaDP+1rIpDlzHFEYNc/HPofRx1xS3KLi2dks8tpwXRHrf\\r\\n         U9UosrM2T/EA+3mMlrxR+j9wDctuIV2gCOYDr/tPqC9opB01fN+w9p5mn2uipCbmts9u\\r\\n         M13iDxOpz6+7QM27BBx/SfsRIsaIuDzpH0WTHMJ1YVwWDMc8k0ZaFquLTX1wN5Ne/pZW\\r\\n         D9Jstaq0Vi5IoqADwKlFKrQ17xI84qonwXnAW4hK6z5apC7IAoyzTJmlTKfXv8lX0Acb\\r\\n         iG7Q==;\\r\\n        dara=google.com\\r\\nARC-Authentication-Results: i=1; mx.google.com;\\r\\n       dkim=pass header.i=@gmail.com header.s=20230601 header.b=PL8nqMqO;\\r\\n       spf=pass (google.com: domain of subhajoymukherjee2003@gmail.com designates 209.85.220.41 as permitted sender) smtp.mailfrom=subhajoymukherjee2003@gmail.com;\\r\\n       dmarc=pass (p=NONE sp=QUARANTINE dis=NONE) header.from=gmail.com\\r\\nReturn-Path: <subhajoymukherjee2003@gmail.com>\\r\\nReceived: from mail-sor-f41.google.com (mail-sor-f41.google.com. [209.85.220.41])\\r\\n        by mx.google.com with SMTPS id ada2fe7eead31-48d7130e449sor472976137.0.2024.06.10.03.01.24\\r\\n        for <freeofcost789@gmail.com>\\r\\n        (Google Transport Security);\\r\\n        Mon, 10 Jun 2024 03:01:24 -0700 (PDT)\\r\\nReceived-SPF: pass (google.com: domain of subhajoymukherjee2003@gmail.com designates 209.85.220.41 as permitted sender) client-ip=209.85.220.41;\\r\\nAuthentication-Results: mx.google.com;\\r\\n       dkim=pass header.i=@gmail.com header.s=20230601 header.b=PL8nqMqO;\\r\\n       spf=pass (google.com: domain of subhajoymukherjee2003@gmail.com designates 209.85.220.41 as permitted sender) smtp.mailfrom=subhajoymukherjee2003@gmail.com;\\r\\n       dmarc=pass (p=NONE sp=QUARANTINE dis=NONE) header.from=gmail.com\\r\\nDKIM-Signature: v=1; a=rsa-sha256; c=relaxed/relaxed;\\r\\n        d=gmail.com; s=20230601; t=1718013684; x=1718618484; dara=google.com;\\r\\n        h=to:subject:message-id:date:from:mime-version:from:to:cc:subject\\r\\n         :date:message-id:reply-to;\\r\\n        bh=Kcemz9dh4loM7CRac7HEttFEtrdk4XCiOoU/3AHyS40=;\\r\\n        b=PL8nqMqOxEONMIEmLnhHcuj1OV6iz4JmPcwNr3NwUdbVKFDPvGIM+P8YMvZYgL0xXi\\r\\n         hY8bnXFbhTNS1j2ZGg0VhZyubJEy7khRA5pzUJcHLn/c4RvCl197o0WbTphuG80C+Gwz\\r\\n         lmhJNqkCb4MALsJfyx1qENNT15j5rjMlbVBW1l1UMg2EWS7KD1xMhUoqiFIxVF5HRgtK\\r\\n         HdkPWt0itGSMGZ9CjsloLCU18pSQ/TwVx4iolMhaBF5ZogO1u+CeT3yOKebDan2l/0y8\\r\\n         NuYZBU/0+mTiXT67V2M+GnPH67f6JXNAOfMH/VsG5U/pzm040ayYrqcY/DijthtObJW6\\r\\n         rFew==\\r\\nX-Google-DKIM-Signature: v=1; a=rsa-sha256; c=relaxed/relaxed;\\r\\n        d=1e100.net; s=20230601; t=1718013684; x=1718618484;\\r\\n        h=to:subject:message-id:date:from:mime-version:x-gm-message-state\\r\\n         :from:to:cc:subject:date:message-id:reply-to;\\r\\n        bh=Kcemz9dh4loM7CRac7HEttFEtrdk4XCiOoU/3AHyS40=;\\r\\n        b=o56/yoYjNTgZvGTJ31GV/1owtJCkmzHPVwDKEMTxgYOJK7aFAsNE1JKbDKO7wA59Wf\\r\\n         hEsNYVqcWWPHsiNlH4ND9OCc7+j4GwLJYX6hwx5UhrY4RiecoIKkMGh9CB5OrbUALeCg\\r\\n         Yz6mszNLODXj4q26fe12ef1mkqN1YdAfkrJ1Xw04GX12YN4rewYHF/N6AAAGXzie4TPl\\r\\n         4quOzCv792nr1T8epYkuYAIkL+o4cWU1tpmRSaKhEUxvkemR5mUMV2ZyIZAOKREuC3gj\\r\\n         FqJ6DjfZqj+OvgE612EC4Rm2jWHwx60gVdyamO2HVw0IIhc9NtXTLyH0oX1Se/k2NOuO\\r\\n         RKng==\\r\\nX-Gm-Message-State: AOJu0YzAwDIcFmjqKfZ5OiGnzLvJUZnis5aTMRlknFVyj6RwDUZLj0kY\\r\\n\\t6+z1ZcxGFYzr33DcROd9xIm6as7PB734PGW4AohOVs2eKkY6B2S5YXJxL4JTAW4Engb0GGcJoVd\\r\\n\\tgSDjHWvOLekSLW3v8ujQndZ5TEsVm/YEw2bBy\\r\\nX-Google-Smtp-Source: AGHT+IF5cKx863OIomHlOSVQywqAvV1FGWDk8EcvX9WPFS1xRA6JPyjQI2PrxAXp/MYw57dUQSKVp3+eqMOfHqXi5Sk=\\r\\nX-Received: by 2002:a67:ee53:0:b0:48c:4a10:ca7d with SMTP id\\r\\n ada2fe7eead31-48c4a10d4ebmr3347835137.28.1718013683816; Mon, 10 Jun 2024\\r\\n 03:01:23 -0700 (PDT)\\r\\nMIME-Version: 1.0\\r\\nFrom: AIML_25_Subhajoy Mukherjee <subhajoymukherjee2003@gmail.com>\\r\\nDate: Mon, 10 Jun 2024 15:31:13 +0530\\r\\nMessage-ID: <CALx4KH0wYqo6qDD5UPoob=5B2bTmjuRo4qWdKubhBdsJeHiWXw@mail.gmail.com>\\r\\nSubject: Order\\r\\nTo: freeofcost789@gmail.com\\r\\nContent-Type: multipart/alternative; boundary=\"00000000000057e370061a863b15\"\\r\\n\\r\\n--00000000000057e370061a863b15\\r\\nContent-Type: text/plain; charset=\"UTF-8\"\\r\\n\\r\\nJust realized we\\'re out of dishwashing liquid! Can I get a bottle delivered\\r\\nASAP?  Paid through PhonePe earlier today.\\r\\n\\r\\n--00000000000057e370061a863b15\\r\\nContent-Type: text/html; charset=\"UTF-8\"\\r\\nContent-Transfer-Encoding: quoted-printable\\r\\n\\r\\n<div dir=3D\"ltr\">Just realized we&#39;re out of dishwashing liquid! Can I g=\\r\\net a bottle delivered ASAP?=C2=A0 Paid through PhonePe earlier today.<br></=\\r\\ndiv>\\r\\n\\r\\n--00000000000057e370061a863b15--\\r\\n'), b')']\n"
          ]
        }
      ]
    },
    {
      "cell_type": "markdown",
      "source": [
        "## Now We have all meassages but with a lot of details\n",
        "So, we have to Extract the Main part fron the Email"
      ],
      "metadata": {
        "id": "wsb8JFuuFudO"
      }
    },
    {
      "cell_type": "code",
      "source": [
        "#In a multipart e-mail, email.message.Message.get_payload() returns a\n",
        "# list with one item for each part. The easiest way is to walk the message\n",
        "# and get the payload on each part:\n",
        "\n",
        "#The Message object consists of headers and payloads where payload is the body of the emails\n",
        "\n",
        "def data_extract_GMAIL():\n",
        "  a=''\n",
        "  for i in msgs[::-1]:\n",
        "    for j in i:\n",
        "      if(type(j)) is tuple:\n",
        "        my_msg=email.message_from_bytes((j[1]))\n",
        "        #print(\"_________________________________\")\n",
        "        a+='Subj: '\n",
        "        a+=my_msg['subject']\n",
        "        a+='\\tfrom: '\n",
        "        a+=my_msg['from']\n",
        "        a+='\\tDate: '\n",
        "        a+=my_msg['date']\n",
        "        a+='\\tbody: '\n",
        "        for part in my_msg.walk():\n",
        "        #print(part.get_content_type())\n",
        "          if part.get_content_type()=='text/plain':\n",
        "            a+=part.get_payload()\n",
        "        a+='\\n'\n",
        "  return a\n",
        "#data=data_extract_GMAIL()\n",
        "#print(data)\n",
        "#print(data_extract_GMAIL())"
      ],
      "metadata": {
        "id": "0JH3rtCtFn9y"
      },
      "execution_count": null,
      "outputs": []
    },
    {
      "cell_type": "markdown",
      "source": [
        "# Extract data from PDF Files\n",
        "\n"
      ],
      "metadata": {
        "id": "PbvT_SuBrjeh"
      }
    },
    {
      "cell_type": "code",
      "source": [
        "!pip install PyPDF2\n",
        "!pip install fpdf"
      ],
      "metadata": {
        "colab": {
          "base_uri": "https://localhost:8080/"
        },
        "id": "1Qr8rYf0_Lxa",
        "outputId": "24a113e3-de60-4b9b-93e8-e3df42fa72ea"
      },
      "execution_count": null,
      "outputs": [
        {
          "output_type": "stream",
          "name": "stdout",
          "text": [
            "Collecting PyPDF2\n",
            "  Downloading pypdf2-3.0.1-py3-none-any.whl (232 kB)\n",
            "\u001b[2K     \u001b[90m━━━━━━━━━━━━━━━━━━━━━━━━━━━━━━━━━━━━━━━━\u001b[0m \u001b[32m232.6/232.6 kB\u001b[0m \u001b[31m2.1 MB/s\u001b[0m eta \u001b[36m0:00:00\u001b[0m\n",
            "\u001b[?25hInstalling collected packages: PyPDF2\n",
            "Successfully installed PyPDF2-3.0.1\n",
            "Collecting fpdf\n",
            "  Downloading fpdf-1.7.2.tar.gz (39 kB)\n",
            "  Preparing metadata (setup.py) ... \u001b[?25l\u001b[?25hdone\n",
            "Building wheels for collected packages: fpdf\n",
            "  Building wheel for fpdf (setup.py) ... \u001b[?25l\u001b[?25hdone\n",
            "  Created wheel for fpdf: filename=fpdf-1.7.2-py2.py3-none-any.whl size=40702 sha256=91e09b190eee335651f4d1f8cd5aa8aae04b7b63b90e47a3b26b8228c1469d74\n",
            "  Stored in directory: /root/.cache/pip/wheels/f9/95/ba/f418094659025eb9611f17cbcaf2334236bf39a0c3453ea455\n",
            "Successfully built fpdf\n",
            "Installing collected packages: fpdf\n",
            "Successfully installed fpdf-1.7.2\n"
          ]
        }
      ]
    },
    {
      "cell_type": "code",
      "source": [
        "import PyPDF2 as pdf\n",
        "from fpdf import FPDF"
      ],
      "metadata": {
        "id": "yNzXJSeB_Nlo"
      },
      "execution_count": null,
      "outputs": []
    },
    {
      "cell_type": "code",
      "source": [
        "def data_extract_PDF():\n",
        "  a=input('Enter the PDF file name/path : ')\n",
        "  reader=pdf.PdfReader(a)\n",
        "  n=len(reader.pages)\n",
        "  for i in range(n):\n",
        "    a+=reader.pages[i].extract_text()\n",
        "  return a\n",
        "\n",
        "  #print(reader.pages[0].extract_text())\n",
        "  #print(type(reader.pages[0].extract_text()))\n",
        "\n",
        "print(data)\n",
        "print(type(data))\n"
      ],
      "metadata": {
        "id": "8BXh6GXRuf8X",
        "colab": {
          "base_uri": "https://localhost:8080/"
        },
        "outputId": "6c139db4-ae6e-45ca-db01-7d4a348a722d"
      },
      "execution_count": null,
      "outputs": [
        {
          "output_type": "stream",
          "name": "stdout",
          "text": [
            "[(b'633 (RFC822 {5447}', b'Delivered-To: freeofcost789@gmail.com\\r\\nReceived: by 2002:adf:a30c:0:b0:35f:1c40:2693 with SMTP id c12csp695393wrb;\\r\\n        Mon, 10 Jun 2024 03:12:33 -0700 (PDT)\\r\\nX-Received: by 2002:a67:eb0b:0:b0:48d:7144:50db with SMTP id ada2fe7eead31-48d71445623mr1667639137.25.1718014353079;\\r\\n        Mon, 10 Jun 2024 03:12:33 -0700 (PDT)\\r\\nARC-Seal: i=1; a=rsa-sha256; t=1718014353; cv=none;\\r\\n        d=google.com; s=arc-20160816;\\r\\n        b=tqdyflUGdXaP6ZIP9S3Rsiw7gZAsH4J7GSOy4ewibBPsRYcMwNCRMlvwOtEscCNSse\\r\\n         AqjKisnkeZ1UV1nJ0XS4TKzIEohT2Wynk5cIU6uj+XlaZaTO1eNTxrkOVMruFUmujkBe\\r\\n         pe7C6Fx71r8vB8vSj7EBIsfEYC23oQxxmfETcOEW89e0HHSk/M+yHEKmBRrJq5BOz/kn\\r\\n         n5jqBsEppIKHhbMAqsYXqShKx4y+tPbZDmmIVXWonSQYYNXyd8PaUcH5H9o9xXiDIhMv\\r\\n         QyJobs2qR+fGGH3cszqqXgBcZcjcLuoqCGhacDafjkF7SNB6kz/veoWxcZkp5Ezqo6Te\\r\\n         4QUg==\\r\\nARC-Message-Signature: i=1; a=rsa-sha256; c=relaxed/relaxed; d=google.com; s=arc-20160816;\\r\\n        h=to:subject:message-id:date:from:mime-version:dkim-signature;\\r\\n        bh=w9tC3XYQKBNtLUMa0LKRYWRmhujLTN2DkpSSN6xGSZg=;\\r\\n        fh=LpQCi3xxGTFmRKfeyIq/hJVeW1dYmMLToDLEu+mVoYU=;\\r\\n        b=0qmm8ITprIhJ9KlVMe/yRFbFIlO0wAuNrflYIGk1uitwVw6WDxEyZJjnOFUyEIRsfu\\r\\n         JTr59fl7RG6rKQZ8VJmTcRwz1Je8RvGM92BFvNB1qxq0OgAEWqy80JQwkFVGnKlvCvp0\\r\\n         YBMPjDQFtkVOQBO8OqZOBTXwTS1/27i8seQ6v1VTdcAyvggejVTF61rKrzCURQ91BbXc\\r\\n         ryntv6d6BpFi5e8M0XMdjrecKJvzXOhKGblkFBzWgULsZFtBgDNNk4+sVuuAWppGLD5m\\r\\n         L0c3krg3JyH9TXuMduvHwq6xHW8iNA7KXofMThNSWkhlCbfQ1iePwqG6Yr0vwaxW3ww3\\r\\n         Lbdw==;\\r\\n        dara=google.com\\r\\nARC-Authentication-Results: i=1; mx.google.com;\\r\\n       dkim=pass header.i=@gmail.com header.s=20230601 header.b=VBbOhH2F;\\r\\n       spf=pass (google.com: domain of subhajoymukherjee2003@gmail.com designates 209.85.220.41 as permitted sender) smtp.mailfrom=subhajoymukherjee2003@gmail.com;\\r\\n       dmarc=pass (p=NONE sp=QUARANTINE dis=NONE) header.from=gmail.com\\r\\nReturn-Path: <subhajoymukherjee2003@gmail.com>\\r\\nReceived: from mail-sor-f41.google.com (mail-sor-f41.google.com. [209.85.220.41])\\r\\n        by mx.google.com with SMTPS id ada2fe7eead31-48c2ef64594sor1235327137.6.2024.06.10.03.12.32\\r\\n        for <freeofcost789@gmail.com>\\r\\n        (Google Transport Security);\\r\\n        Mon, 10 Jun 2024 03:12:33 -0700 (PDT)\\r\\nReceived-SPF: pass (google.com: domain of subhajoymukherjee2003@gmail.com designates 209.85.220.41 as permitted sender) client-ip=209.85.220.41;\\r\\nAuthentication-Results: mx.google.com;\\r\\n       dkim=pass header.i=@gmail.com header.s=20230601 header.b=VBbOhH2F;\\r\\n       spf=pass (google.com: domain of subhajoymukherjee2003@gmail.com designates 209.85.220.41 as permitted sender) smtp.mailfrom=subhajoymukherjee2003@gmail.com;\\r\\n       dmarc=pass (p=NONE sp=QUARANTINE dis=NONE) header.from=gmail.com\\r\\nDKIM-Signature: v=1; a=rsa-sha256; c=relaxed/relaxed;\\r\\n        d=gmail.com; s=20230601; t=1718014352; x=1718619152; dara=google.com;\\r\\n        h=to:subject:message-id:date:from:mime-version:from:to:cc:subject\\r\\n         :date:message-id:reply-to;\\r\\n        bh=w9tC3XYQKBNtLUMa0LKRYWRmhujLTN2DkpSSN6xGSZg=;\\r\\n        b=VBbOhH2FhUq1yxTVnAV/twMEF72eDyQzVpz1E+O4t6WGU0yhYq2nJjtuizGEOejIk6\\r\\n         igAQhfGXrLN0AxcrNsQ0u8pG7IxOh/jpcfA+NNRhfeCy4rQ63RyVPFyGia5q7tcdiz4Z\\r\\n         cb18BOXK9tQ6vkpV38KgXtMWfOhwT01j1gZ+vtq9s8KUoyT2DGXrlFR0cWS0iRkH3fdy\\r\\n         2CldJWJ8yFVsDna2bdNcyyMuTMuCYD+USTBsMslO/Wp/4nAgWd0Xh9FXsGa8au+VAdBP\\r\\n         WICUP5tf0l2K8oSvmeaeDrtJFXThxc69PRmIEocr5y/sfNq+FnG8n7s7DDn68aiO1err\\r\\n         iodA==\\r\\nX-Google-DKIM-Signature: v=1; a=rsa-sha256; c=relaxed/relaxed;\\r\\n        d=1e100.net; s=20230601; t=1718014352; x=1718619152;\\r\\n        h=to:subject:message-id:date:from:mime-version:x-gm-message-state\\r\\n         :from:to:cc:subject:date:message-id:reply-to;\\r\\n        bh=w9tC3XYQKBNtLUMa0LKRYWRmhujLTN2DkpSSN6xGSZg=;\\r\\n        b=H1Ou3I/LjtXNPmlVaRGjr1MvS3ieJ2aOwDSdfUBC5WGUeTeEjLtOVnvr6t4J+KZ+42\\r\\n         3EnfXyW2nhqSoInBtVt2VB3MW3zr+T4XSFYsD1bqxXKM3yIv1ISIJWRhGInam8KfK667\\r\\n         QpxagjD+4kG4GXFscqX3O5KDVxwpZzDppp8QYTo+TX3pUfIC7tWGuAo1Jfd70iazmiz6\\r\\n         7EL8rIoEZNVdYvBPLmutHxBM6Hn1u7PcA287TF1JTYHQAX1MjDWi1tkGWEjm3OKbyGsv\\r\\n         IGK1pHxaDucopJU26N+fUugA2yefOaQfdZCcL09Yvu5Q/oi3ePByQ52Equm3BscMUzsn\\r\\n         EWVA==\\r\\nX-Gm-Message-State: AOJu0YzDvYng5Mf0bthDO6EX5P6QxE37FG4mtGwTurpQTAIbwWiTlDOw\\r\\n\\t2Z1VdpskUWu68XKNxZUTguQL8lU+IIfNM/7UJ6ufoIP5HEVrLc8v2KDDRPkqevJf/gUtAHU7VWt\\r\\n\\tSp5jcmZGnaO9yQbaUTWsEUQn1G3zp5/dBSATL\\r\\nX-Google-Smtp-Source: AGHT+IHVRR3zg9bRu/VfJ48/PWN+jQehkB4S8rBDGNiK/z8PSZnFi2+YrntgwSbNkyfoLZhkBkBxq4f3UvWD+4hQHpo=\\r\\nX-Received: by 2002:a67:e3b1:0:b0:48c:4723:65b2 with SMTP id\\r\\n ada2fe7eead31-48c472366d4mr3184681137.1.1718014352415; Mon, 10 Jun 2024\\r\\n 03:12:32 -0700 (PDT)\\r\\nMIME-Version: 1.0\\r\\nFrom: AIML_25_Subhajoy Mukherjee <subhajoymukherjee2003@gmail.com>\\r\\nDate: Mon, 10 Jun 2024 15:42:22 +0530\\r\\nMessage-ID: <CALx4KH1o7zj9WSjFA5cFY0sCgG8P9DGbs+NJU_cAZGxMk30fxw@mail.gmail.com>\\r\\nSubject: Online Order\\r\\nTo: freeofcost789@gmail.com\\r\\nContent-Type: multipart/alternative; boundary=\"00000000000031e3b2061a8663ef\"\\r\\n\\r\\n--00000000000031e3b2061a8663ef\\r\\nContent-Type: text/plain; charset=\"UTF-8\"\\r\\n\\r\\nHi,\\r\\n* 2kg of potatoes\\r\\n* 1kg of onions\\r\\n* 1kg of cauliflower\\r\\n\\r\\n--00000000000031e3b2061a8663ef\\r\\nContent-Type: text/html; charset=\"UTF-8\"\\r\\nContent-Transfer-Encoding: quoted-printable\\r\\n\\r\\n<div dir=3D\"ltr\">Hi, =C2=A0<br>* 2kg of potatoes =C2=A0<br>* 1kg of onions =\\r\\n=C2=A0<br>* 1kg of cauliflower =C2=A0<br><br></div>\\r\\n\\r\\n--00000000000031e3b2061a8663ef--\\r\\n'), b')']\n",
            "<class 'list'>\n"
          ]
        }
      ]
    },
    {
      "cell_type": "markdown",
      "source": [
        "# Extract data from .TXT"
      ],
      "metadata": {
        "id": "hwHDdI9qNEjr"
      }
    },
    {
      "cell_type": "code",
      "source": [
        "data=[]\n",
        "def data_extract_TXT():\n",
        "  a=input('Enter the TEXT file name/path : ')\n",
        "  data=[]\n",
        "  file=open(a,'r')\n",
        "  content=file.readlines()\n",
        "  content='\\n'.join(content)\n",
        "  #print(content)\n",
        "  print(type(content))\n",
        "  return content\n"
      ],
      "metadata": {
        "id": "-86wpmYcugFL"
      },
      "execution_count": null,
      "outputs": []
    },
    {
      "cell_type": "markdown",
      "source": [
        "# This is the setup for using of GEMINI API"
      ],
      "metadata": {
        "id": "xQiEHm2Yugcb"
      }
    },
    {
      "cell_type": "code",
      "source": [
        "!pip install -q -U google-generativeai"
      ],
      "metadata": {
        "id": "CA_rHmNuUm1A",
        "colab": {
          "base_uri": "https://localhost:8080/"
        },
        "outputId": "352af969-a7eb-4686-f909-ab92f939fb24"
      },
      "execution_count": null,
      "outputs": [
        {
          "output_type": "stream",
          "name": "stdout",
          "text": [
            "\u001b[2K     \u001b[90m━━━━━━━━━━━━━━━━━━━━━━━━━━━━━━━━━━━━━━━━\u001b[0m \u001b[32m163.1/163.1 kB\u001b[0m \u001b[31m1.3 MB/s\u001b[0m eta \u001b[36m0:00:00\u001b[0m\n",
            "\u001b[2K     \u001b[90m━━━━━━━━━━━━━━━━━━━━━━━━━━━━━━━━━━━━━━━━\u001b[0m \u001b[32m717.3/717.3 kB\u001b[0m \u001b[31m11.0 MB/s\u001b[0m eta \u001b[36m0:00:00\u001b[0m\n",
            "\u001b[?25h"
          ]
        }
      ]
    },
    {
      "cell_type": "code",
      "source": [
        "# Import the Python SDK\n",
        "import google.generativeai as genai\n",
        "# Used to securely store your API key\n",
        "from google.colab import userdata\n",
        "\n",
        "GOOGLE_API_KEY=userdata.get('GOOGLE_API_KEY')\n",
        "genai.configure(api_key=GOOGLE_API_KEY)"
      ],
      "metadata": {
        "id": "rS4YEufrwVcq"
      },
      "execution_count": null,
      "outputs": []
    },
    {
      "cell_type": "markdown",
      "source": [
        "# List all gemini models which are there in google-generative-ai library\n",
        "### 1. gemini-1.5-pro :\n",
        "Inputs : Audio, images, videos, and text\n",
        "Outputs : Text\n",
        "Optimized for : Complex reasoning tasks such as code and text generation, text editing, problem solving, data extraction and generation\n",
        "### gemini-1.5-flash :\n",
        "Inputs : Audio, images, videos, and text\n",
        "Outputs : Text\n",
        "Optimied for : Fast and versatile performance across a diverse variety of tasks\n",
        "### gemini-1.0-pro :\n",
        "Inputs : Text\n",
        "Outputs : Text\n",
        "Optimized for : Natural language tasks, multi-turn text and code chat, and code generation\n",
        "### gemini-pro-vision :\n",
        "Inputs : Images, videos, and text\n",
        "Outputs : Text\n",
        "Optimized for : Visual-related tasks, like generating image descriptions or identifying objects in images\n",
        "### text-embedding-004 :\n",
        "Inputs : Text\n",
        "Outputs : Text embeddings\n",
        "Optimized for : Measuring the relatedness of text strings\n"
      ],
      "metadata": {
        "id": "-_gqhCTfxf9g"
      }
    },
    {
      "cell_type": "code",
      "source": [
        "for n in genai.list_models():\n",
        "  if 'generateContent' in n.supported_generation_methods:\n",
        "    print(n.name)"
      ],
      "metadata": {
        "colab": {
          "base_uri": "https://localhost:8080/"
        },
        "id": "qT8LQLMOxVfA",
        "outputId": "87d342e3-07b1-4ee0-bd38-551c69dc352c",
        "collapsed": true
      },
      "execution_count": null,
      "outputs": [
        {
          "output_type": "stream",
          "name": "stdout",
          "text": [
            "models/gemini-1.0-pro\n",
            "models/gemini-1.0-pro-001\n",
            "models/gemini-1.0-pro-latest\n",
            "models/gemini-1.0-pro-vision-latest\n",
            "models/gemini-1.5-flash\n",
            "models/gemini-1.5-flash-001\n",
            "models/gemini-1.5-flash-latest\n",
            "models/gemini-1.5-pro\n",
            "models/gemini-1.5-pro-001\n",
            "models/gemini-1.5-pro-latest\n",
            "models/gemini-pro\n",
            "models/gemini-pro-vision\n"
          ]
        }
      ]
    },
    {
      "cell_type": "markdown",
      "source": [
        "## So, for NLP we use :\n",
        "### gemini-1.0-pro-latest"
      ],
      "metadata": {
        "id": "SjCjyBfb0X3O"
      }
    },
    {
      "cell_type": "code",
      "source": [
        "model=genai.GenerativeModel('gemini-1.0-pro-001')"
      ],
      "metadata": {
        "id": "woiZU_VX0v5b"
      },
      "execution_count": null,
      "outputs": []
    },
    {
      "cell_type": "markdown",
      "source": [
        "# This is to be run before running the below GEMINI function if data is taken from .txt and .pdf files"
      ],
      "metadata": {
        "id": "3uM7KJgushxN"
      }
    },
    {
      "cell_type": "code",
      "source": [
        "def DataExtractFromPDForTXTorGMAIL(z):\n",
        "  if z==0:\n",
        "    return data_extract_PDF()\n",
        "  elif z==1:\n",
        "    return data_extract_TXT()\n",
        "  elif z==2:\n",
        "    return data_extract_GMAIL()\n",
        "  else:\n",
        "    print(\"Please Enter Valid Number !!!!!!!\")\n",
        "\n",
        "z=int(input('''Press 0 to extract data from PDF File :\n",
        "Press 1 to extract data from TEXT File :\n",
        "Press 2 to extract data from GMAIL data : '''))\n",
        "\n",
        "data=DataExtractFromPDForTXTorGMAIL(z)"
      ],
      "metadata": {
        "colab": {
          "base_uri": "https://localhost:8080/"
        },
        "id": "7ypXqvtAsgtf",
        "outputId": "3a19a3ed-9caf-4f67-dc70-f41411ba7ae9"
      },
      "execution_count": null,
      "outputs": [
        {
          "name": "stdout",
          "output_type": "stream",
          "text": [
            "Press 0 to extract data from PDF File :\n",
            "Press 1 to extract data from TEXT File :\n",
            "Press 2 to extract data from GMAIL data : 2\n"
          ]
        }
      ]
    },
    {
      "cell_type": "markdown",
      "source": [
        "## This is the query which is to be passed to GEMINI with the extracted data to get the desired result"
      ],
      "metadata": {
        "id": "-pRxfBwn2QHp"
      }
    },
    {
      "cell_type": "code",
      "source": [
        "Data_of_orders=data\n",
        "Query='''In the above text Extract the food/vegetables names which are ordered, quatity of each order,date,email id , phone no. and also the payment method form the text.\n",
        " Make extract data in Comma Separated Values format and return it as in the comma separeted values format there will be six columns. And at first the columns name should be there\n",
        " The column names are strictly in the below format :\n",
        " Phone_no,Email_Id,Food_Name,Quantity,Payment_Method,Date. If any of the data is unavailable for each customer in the text then simply write it as 'NULL' in the CSV'''\n",
        "print(type(data))"
      ],
      "metadata": {
        "id": "2AYuh7VY4MFB",
        "colab": {
          "base_uri": "https://localhost:8080/"
        },
        "outputId": "2c0b5a77-c358-4a04-ec06-39fe953d314b"
      },
      "execution_count": null,
      "outputs": [
        {
          "output_type": "stream",
          "name": "stdout",
          "text": [
            "<class 'str'>\n"
          ]
        }
      ]
    },
    {
      "cell_type": "code",
      "source": [
        "response = model.generate_content(Data_of_orders + \"     \" + Query)\n",
        "print(response.text)\n",
        "print(type(response.text))\n",
        "a=response.text"
      ],
      "metadata": {
        "colab": {
          "base_uri": "https://localhost:8080/",
          "height": 347
        },
        "id": "aRQquRDv2QyS",
        "outputId": "690969fc-74cc-4f00-ed89-acaf89ec9f2f"
      },
      "execution_count": null,
      "outputs": [
        {
          "output_type": "stream",
          "name": "stdout",
          "text": [
            "Phone_no,Email_Id,Food_Name,Quantity,Payment_Method,Date\n",
            "NULL,subhajoymukherjee2003@gmail.com,potatoes,2kg,NULL,10 Jun 2024\n",
            "NULL,subhajoymukherjee2003@gmail.com,onions,1kg,NULL,10 Jun 2024\n",
            "NULL,subhajoymukherjee2003@gmail.com,cauliflower,1kg,NULL,10 Jun 2024\n",
            "NULL,subhajoymukherjee2003@gmail.com,chips,5 packets,NULL,10 Jun 2024\n",
            "NULL,subhajoymukherjee2003@gmail.com,cookies,3 packets,NULL,10 Jun 2024\n",
            "NULL,subhajoymukherjee2003@gmail.com,juice,2L bottle,NULL,10 Jun 2024\n",
            "NULL,subhajoymukherjee2003@gmail.com,eggs,2 dozen,NULL,10 Jun 2024\n",
            "NULL,subhajoymukherjee2003@gmail.com,milk,1L carton,NULL,10 Jun 2024\n",
            "NULL,subhajoymukherjee2003@gmail.com,apples,3kg,NULL,10 Jun 2024\n",
            "NULL,subhajoymukherjee2003@gmail.com,oranges,2kg,NULL,10 Jun 2024\n",
            "NULL,subhajoymukherjee2003@gmail.com,bananas,1kg,NULL,10 Jun 2024\n",
            "NULL,subhajoymukherjee2003@gmail.com,basmati rice,1kg,Netbanking,10 Jun 2024\n",
            "NULL,subhajoymukherjee2003@gmail.com,urad dal,500g,NULL,10 Jun 2024\n",
            "NULL,subhajoymukherjee2003@gmail.com,green moong dal,250g,NULL,10 Jun 2024\n",
            "NULL,subhajoymukherjee2003@gmail.com,tissues,1 box,Cash on delivery,10 Jun 2024\n",
            "NULL,subhajoymukherjee2003@gmail.com,hand sanitizer,NULL,Cash on delivery,10 Jun 2024\n",
            "NULL,subhajoymukherjee2003@gmail.com,dishwashing liquid,1 bottle,PhonePe,10 Jun 2024\n",
            "<class 'str'>\n"
          ]
        }
      ]
    },
    {
      "cell_type": "code",
      "source": [
        "a=response.text"
      ],
      "metadata": {
        "id": "ZbIg9MPVZth0"
      },
      "execution_count": null,
      "outputs": []
    },
    {
      "cell_type": "markdown",
      "source": [
        "# Save the Gemini Output to a CSV File"
      ],
      "metadata": {
        "id": "G5KZ9oNLrknk"
      }
    },
    {
      "cell_type": "code",
      "source": [
        "import csv\n",
        "from csv import writer\n",
        "import pandas as pd"
      ],
      "metadata": {
        "id": "QQtn3-2arsAU"
      },
      "execution_count": null,
      "outputs": []
    },
    {
      "cell_type": "code",
      "source": [
        "def edit_csv(a):\n",
        "  if v==0:\n",
        "    with open('Example.csv','w')as out:\n",
        "      out.write(a)\n",
        "      out.close()\n",
        "  else:\n",
        "    df1=pd.DataFrame()\n",
        "    df1=pd.read_csv('Example.csv')\n",
        "    with open('Example.csv','w')as out:\n",
        "      out.write(a)\n",
        "      out.close()\n",
        "    df2=pd.read_csv('Example.csv')\n",
        "    df3=pd.concat([df1,df2],ignore_index=True)\n",
        "    df3.to_csv('Example.csv')\n",
        "v=int(input('''Press 0 to make a fresh CSV file with the data :\n",
        "Press 1 to add the data in the existing CSV file :'''))\n",
        "edit_csv(a)\n",
        "\n",
        "\n",
        "\n",
        "\n",
        "\n"
      ],
      "metadata": {
        "id": "EZunuNm9rzEs",
        "colab": {
          "base_uri": "https://localhost:8080/"
        },
        "outputId": "1330c271-c21d-4614-9c6c-75aff4c8453a"
      },
      "execution_count": null,
      "outputs": [
        {
          "name": "stdout",
          "output_type": "stream",
          "text": [
            "Press 0 to make a fresh CSV file with the data :\n",
            "Press 1 to add the data in the existing CSV file :1\n"
          ]
        }
      ]
    }
  ]
}